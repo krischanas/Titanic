{
 "cells": [
  {
   "cell_type": "code",
   "execution_count": 32,
   "metadata": {},
   "outputs": [],
   "source": [
    "import matplotlib.pyplot as plt\n",
    "%matplotlib inline\n",
    "import numpy as np\n",
    "import os\n",
    "import pandas as pd\n",
    "import seaborn as sns\n",
    "\n",
    "#from IPython.core.interactiveshell import InteractiveShell\n",
    "#InteractiveShell.ast_node_interactivity = \"all\"\n",
    "\n",
    "pd.pandas.set_option('display.max_columns', None)\n",
    "pd.options.display.float_format = '{:,.4f}'.format\n",
    "pd.set_option('display.max_colwidth', 120)\n",
    "import pickle\n",
    "import warnings\n",
    "warnings.simplefilter(action='ignore')\n",
    "\n",
    "from sklearn.ensemble import RandomForestClassifier\n",
    "from sklearn.neighbors import KNeighborsClassifier\n",
    "from sklearn.metrics import accuracy_score, balanced_accuracy_score, classification_report, confusion_matrix\n",
    "from sklearn.model_selection import GridSearchCV, KFold, ParameterGrid\n",
    "from sklearn.pipeline import Pipeline, make_pipeline\n",
    "from xgboost.sklearn import XGBClassifier\n",
    "from mlxtend.classifier import EnsembleVoteClassifier\n",
    "from sklearn.base import BaseEstimator, TransformerMixin\n",
    "from sklearn.decomposition import PCA"
   ]
  },
  {
   "cell_type": "markdown",
   "metadata": {},
   "source": [
    "The estimators that will be assessed in this jupyter notebook are:\n",
    "KNeighborsClassifier, RandomForestClassifier, XGBClassifier"
   ]
  },
  {
   "cell_type": "code",
   "execution_count": 3,
   "metadata": {
    "collapsed": true
   },
   "outputs": [],
   "source": [
    "project_path = r'C:\\Users\\kchanas\\Documents\\Learning\\Kaggle\\Titanic'\n",
    "X_train = pd.read_csv(os.path.join(project_path, r'data\\X_train.csv'), index_col=0)\n",
    "y_train = pd.read_csv(os.path.join(project_path, r'data\\y_train.csv'), index_col=0, names=['Survived'])\n",
    "X_test = pd.read_csv(os.path.join(project_path, r'data\\X_test.csv'), index_col=0)\n",
    "y_test = pd.read_csv(os.path.join(project_path, r'data\\y_test.csv'), index_col=0, names=['Survived'])"
   ]
  },
  {
   "cell_type": "code",
   "execution_count": 7,
   "metadata": {
    "collapsed": true
   },
   "outputs": [],
   "source": [
    "with open(os.path.join(project_path, r'data\\kn_selected_features.txt'), \"rb\") as f:\n",
    "      kn_selected_features = pickle.load(f)\n",
    "        \n",
    "with open(os.path.join(project_path, r'data\\rf_selected_features.txt'), \"rb\") as f:\n",
    "      rf_selected_features = pickle.load(f)\n",
    "        \n",
    "with open(os.path.join(project_path, r'data\\xgb_selected_features.txt'), \"rb\") as f:\n",
    "      xgb_selected_features = pickle.load(f)"
   ]
  },
  {
   "cell_type": "code",
   "execution_count": 8,
   "metadata": {
    "collapsed": true
   },
   "outputs": [],
   "source": [
    "kn_selected_features = [X_train.columns.get_loc(c) for c in kn_selected_features if c in X_train]\n",
    "rf_selected_features = [X_train.columns.get_loc(c) for c in rf_selected_features if c in X_train]\n",
    "xgb_selected_features = [X_train.columns.get_loc(c) for c in xgb_selected_features if c in X_train]\n"
   ]
  },
  {
   "cell_type": "code",
   "execution_count": 9,
   "metadata": {},
   "outputs": [
    {
     "data": {
      "text/plain": [
       "array([0.1762492 , 0.33717471, 0.45512407, 0.56834077, 0.67151626,\n",
       "       0.76901807, 0.84500176, 0.91421679, 0.97163899, 1.        ])"
      ]
     },
     "execution_count": 9,
     "metadata": {},
     "output_type": "execute_result"
    }
   ],
   "source": [
    "pca = PCA()\n",
    "pca.fit(X_train.iloc[:,kn_selected_features])\n",
    "pca.explained_variance_ratio_.cumsum()"
   ]
  },
  {
   "cell_type": "code",
   "execution_count": 10,
   "metadata": {},
   "outputs": [
    {
     "data": {
      "text/plain": [
       "array([0.31869228, 0.52595028, 0.65644485, 0.78570944, 0.89718458,\n",
       "       0.97255182, 1.        ])"
      ]
     },
     "execution_count": 10,
     "metadata": {},
     "output_type": "execute_result"
    }
   ],
   "source": [
    "pca = PCA()\n",
    "pca.fit(X_train.iloc[:,rf_selected_features])\n",
    "pca.explained_variance_ratio_.cumsum()"
   ]
  },
  {
   "cell_type": "code",
   "execution_count": 11,
   "metadata": {},
   "outputs": [
    {
     "data": {
      "text/plain": [
       "array([0.27896375, 0.44754683, 0.59324905, 0.70647281, 0.80970975,\n",
       "       0.899887  , 0.973744  , 1.        ])"
      ]
     },
     "execution_count": 11,
     "metadata": {},
     "output_type": "execute_result"
    }
   ],
   "source": [
    "pca = PCA()\n",
    "pca.fit(X_train.iloc[:,xgb_selected_features])\n",
    "pca.explained_variance_ratio_.cumsum()"
   ]
  },
  {
   "cell_type": "code",
   "execution_count": 12,
   "metadata": {
    "collapsed": true
   },
   "outputs": [],
   "source": [
    "class ItemsSelector(BaseEstimator, TransformerMixin):\n",
    "    def __init__(self, keys: list):\n",
    "        self.keys = keys\n",
    "\n",
    "    def fit(self, x, y=None):\n",
    "        return self\n",
    "\n",
    "    def transform(self, dataframe):\n",
    "        return np.array(dataframe)[:,self.keys]"
   ]
  },
  {
   "cell_type": "code",
   "execution_count": 15,
   "metadata": {},
   "outputs": [],
   "source": [
    "pipe_kn = Pipeline([('select_items', ItemsSelector(keys=en_selected_features)),\n",
    "                  #  ('pca', PCA(n_components=7)),\n",
    "                   ('model', KNeighborsClassifier())\n",
    "])\n",
    "\n",
    "pipe_rf = Pipeline([('select_items', ItemsSelector(keys=rf_selected_features)),\n",
    "                  #  ('pca', PCA(n_components=7)),\n",
    "                       ('model', RandomForestClassifier(n_estimators=200, oob_score=True, random_state=1))\n",
    "])\n",
    "\n",
    "pipe_xgb = Pipeline([('select_items', ItemsSelector(keys=xgb_selected_features)),\n",
    "                   #  ('pca', PCA(n_components=7)),\n",
    "                       ('model', XGBClassifier(random_state=1, n_estimators=200))\n",
    "])"
   ]
  },
  {
   "cell_type": "code",
   "execution_count": 25,
   "metadata": {
    "collapsed": true
   },
   "outputs": [],
   "source": [
    "grid_params_kn = {'model__n_neighbors': [5, 10, 15]\n",
    "}\n",
    "\n",
    "grid_params_rf = {'model__max_depth':[3, 5, 6, 7, 10, 12]    \n",
    "}\n",
    "\n",
    "grid_params_xgb = {'model__learning_rate':[0.001, 0.01, 0.05, 0.1],\n",
    "                   'model__max_depth':[3, 5, 7, 10, 12] \n",
    "                 }"
   ]
  },
  {
   "cell_type": "code",
   "execution_count": 26,
   "metadata": {
    "collapsed": true
   },
   "outputs": [],
   "source": [
    "models_names = ['KNeighbors', 'RandomForest', 'XGB']\n",
    "models = [pipe_kn, pipe_rf, pipe_xgb]\n",
    "grid_params = [grid_params_kn, grid_params_rf, grid_params_xgb]"
   ]
  },
  {
   "cell_type": "code",
   "execution_count": 28,
   "metadata": {
    "scrolled": true
   },
   "outputs": [],
   "source": [
    "models_res = []\n",
    "for model_name, model, grid_param in zip(models_names, models, grid_params):\n",
    "    params = ParameterGrid(grid_param)\n",
    "    for param in params:\n",
    "        model.set_params(**param)\n",
    "        model.fit(X_train, y_train)\n",
    "        pred = model.predict(X_test)\n",
    "        accuracy = accuracy_score(y_test, pred)\n",
    "        balanced_accuracy = balanced_accuracy_score(y_test, pred)\n",
    "        models_res.append({'MODEL_NAME': model_name, 'PARAMS': param, 'ACCURACY': accuracy, 'BAL_ACCURACY': balanced_accuracy})\n",
    "models_res = pd.DataFrame(models_res)[['MODEL_NAME','PARAMS','ACCURACY','BAL_ACCURACY']].sort_values('ACCURACY',ascending=False).reset_index(drop=True)\n"
   ]
  },
  {
   "cell_type": "code",
   "execution_count": 29,
   "metadata": {},
   "outputs": [
    {
     "data": {
      "text/html": [
       "<div>\n",
       "<style scoped>\n",
       "    .dataframe tbody tr th:only-of-type {\n",
       "        vertical-align: middle;\n",
       "    }\n",
       "\n",
       "    .dataframe tbody tr th {\n",
       "        vertical-align: top;\n",
       "    }\n",
       "\n",
       "    .dataframe thead th {\n",
       "        text-align: right;\n",
       "    }\n",
       "</style>\n",
       "<table border=\"1\" class=\"dataframe\">\n",
       "  <thead>\n",
       "    <tr style=\"text-align: right;\">\n",
       "      <th></th>\n",
       "      <th>MODEL_NAME</th>\n",
       "      <th>PARAMS</th>\n",
       "      <th>ACCURACY</th>\n",
       "      <th>BAL_ACCURACY</th>\n",
       "    </tr>\n",
       "  </thead>\n",
       "  <tbody>\n",
       "    <tr>\n",
       "      <th>0</th>\n",
       "      <td>XGB</td>\n",
       "      <td>{'model__learning_rate': 0.01, 'model__max_depth': 12}</td>\n",
       "      <td>0.8101</td>\n",
       "      <td>0.7799</td>\n",
       "    </tr>\n",
       "    <tr>\n",
       "      <th>1</th>\n",
       "      <td>XGB</td>\n",
       "      <td>{'model__learning_rate': 0.001, 'model__max_depth': 7}</td>\n",
       "      <td>0.8101</td>\n",
       "      <td>0.7842</td>\n",
       "    </tr>\n",
       "    <tr>\n",
       "      <th>2</th>\n",
       "      <td>XGB</td>\n",
       "      <td>{'model__learning_rate': 0.1, 'model__max_depth': 5}</td>\n",
       "      <td>0.8045</td>\n",
       "      <td>0.7752</td>\n",
       "    </tr>\n",
       "    <tr>\n",
       "      <th>3</th>\n",
       "      <td>XGB</td>\n",
       "      <td>{'model__learning_rate': 0.01, 'model__max_depth': 10}</td>\n",
       "      <td>0.8045</td>\n",
       "      <td>0.7731</td>\n",
       "    </tr>\n",
       "    <tr>\n",
       "      <th>4</th>\n",
       "      <td>XGB</td>\n",
       "      <td>{'model__learning_rate': 0.1, 'model__max_depth': 3}</td>\n",
       "      <td>0.8045</td>\n",
       "      <td>0.7773</td>\n",
       "    </tr>\n",
       "    <tr>\n",
       "      <th>5</th>\n",
       "      <td>XGB</td>\n",
       "      <td>{'model__learning_rate': 0.05, 'model__max_depth': 7}</td>\n",
       "      <td>0.8045</td>\n",
       "      <td>0.7752</td>\n",
       "    </tr>\n",
       "    <tr>\n",
       "      <th>6</th>\n",
       "      <td>XGB</td>\n",
       "      <td>{'model__learning_rate': 0.001, 'model__max_depth': 10}</td>\n",
       "      <td>0.7989</td>\n",
       "      <td>0.7684</td>\n",
       "    </tr>\n",
       "    <tr>\n",
       "      <th>7</th>\n",
       "      <td>XGB</td>\n",
       "      <td>{'model__learning_rate': 0.001, 'model__max_depth': 12}</td>\n",
       "      <td>0.7989</td>\n",
       "      <td>0.7684</td>\n",
       "    </tr>\n",
       "    <tr>\n",
       "      <th>8</th>\n",
       "      <td>XGB</td>\n",
       "      <td>{'model__learning_rate': 0.01, 'model__max_depth': 7}</td>\n",
       "      <td>0.7989</td>\n",
       "      <td>0.7684</td>\n",
       "    </tr>\n",
       "    <tr>\n",
       "      <th>9</th>\n",
       "      <td>XGB</td>\n",
       "      <td>{'model__learning_rate': 0.05, 'model__max_depth': 5}</td>\n",
       "      <td>0.7933</td>\n",
       "      <td>0.7594</td>\n",
       "    </tr>\n",
       "    <tr>\n",
       "      <th>10</th>\n",
       "      <td>XGB</td>\n",
       "      <td>{'model__learning_rate': 0.01, 'model__max_depth': 5}</td>\n",
       "      <td>0.7933</td>\n",
       "      <td>0.7594</td>\n",
       "    </tr>\n",
       "    <tr>\n",
       "      <th>11</th>\n",
       "      <td>XGB</td>\n",
       "      <td>{'model__learning_rate': 0.05, 'model__max_depth': 3}</td>\n",
       "      <td>0.7877</td>\n",
       "      <td>0.7547</td>\n",
       "    </tr>\n",
       "    <tr>\n",
       "      <th>12</th>\n",
       "      <td>XGB</td>\n",
       "      <td>{'model__learning_rate': 0.001, 'model__max_depth': 5}</td>\n",
       "      <td>0.7877</td>\n",
       "      <td>0.7547</td>\n",
       "    </tr>\n",
       "    <tr>\n",
       "      <th>13</th>\n",
       "      <td>RandomForest</td>\n",
       "      <td>{'model__max_depth': 5}</td>\n",
       "      <td>0.7821</td>\n",
       "      <td>0.7457</td>\n",
       "    </tr>\n",
       "    <tr>\n",
       "      <th>14</th>\n",
       "      <td>XGB</td>\n",
       "      <td>{'model__learning_rate': 0.1, 'model__max_depth': 7}</td>\n",
       "      <td>0.7821</td>\n",
       "      <td>0.7542</td>\n",
       "    </tr>\n",
       "    <tr>\n",
       "      <th>15</th>\n",
       "      <td>XGB</td>\n",
       "      <td>{'model__learning_rate': 0.01, 'model__max_depth': 3}</td>\n",
       "      <td>0.7821</td>\n",
       "      <td>0.7435</td>\n",
       "    </tr>\n",
       "    <tr>\n",
       "      <th>16</th>\n",
       "      <td>XGB</td>\n",
       "      <td>{'model__learning_rate': 0.05, 'model__max_depth': 12}</td>\n",
       "      <td>0.7765</td>\n",
       "      <td>0.7516</td>\n",
       "    </tr>\n",
       "    <tr>\n",
       "      <th>17</th>\n",
       "      <td>XGB</td>\n",
       "      <td>{'model__learning_rate': 0.05, 'model__max_depth': 10}</td>\n",
       "      <td>0.7765</td>\n",
       "      <td>0.7516</td>\n",
       "    </tr>\n",
       "    <tr>\n",
       "      <th>18</th>\n",
       "      <td>XGB</td>\n",
       "      <td>{'model__learning_rate': 0.1, 'model__max_depth': 10}</td>\n",
       "      <td>0.7765</td>\n",
       "      <td>0.7537</td>\n",
       "    </tr>\n",
       "    <tr>\n",
       "      <th>19</th>\n",
       "      <td>XGB</td>\n",
       "      <td>{'model__learning_rate': 0.1, 'model__max_depth': 12}</td>\n",
       "      <td>0.7765</td>\n",
       "      <td>0.7537</td>\n",
       "    </tr>\n",
       "    <tr>\n",
       "      <th>20</th>\n",
       "      <td>XGB</td>\n",
       "      <td>{'model__learning_rate': 0.001, 'model__max_depth': 3}</td>\n",
       "      <td>0.7765</td>\n",
       "      <td>0.7388</td>\n",
       "    </tr>\n",
       "    <tr>\n",
       "      <th>21</th>\n",
       "      <td>RandomForest</td>\n",
       "      <td>{'model__max_depth': 7}</td>\n",
       "      <td>0.7765</td>\n",
       "      <td>0.7431</td>\n",
       "    </tr>\n",
       "    <tr>\n",
       "      <th>22</th>\n",
       "      <td>RandomForest</td>\n",
       "      <td>{'model__max_depth': 6}</td>\n",
       "      <td>0.7765</td>\n",
       "      <td>0.7410</td>\n",
       "    </tr>\n",
       "    <tr>\n",
       "      <th>23</th>\n",
       "      <td>RandomForest</td>\n",
       "      <td>{'model__max_depth': 10}</td>\n",
       "      <td>0.7709</td>\n",
       "      <td>0.7405</td>\n",
       "    </tr>\n",
       "    <tr>\n",
       "      <th>24</th>\n",
       "      <td>RandomForest</td>\n",
       "      <td>{'model__max_depth': 3}</td>\n",
       "      <td>0.7709</td>\n",
       "      <td>0.7298</td>\n",
       "    </tr>\n",
       "    <tr>\n",
       "      <th>25</th>\n",
       "      <td>KNeighbors</td>\n",
       "      <td>{'model__n_neighbors': 15}</td>\n",
       "      <td>0.7709</td>\n",
       "      <td>0.7384</td>\n",
       "    </tr>\n",
       "    <tr>\n",
       "      <th>26</th>\n",
       "      <td>RandomForest</td>\n",
       "      <td>{'model__max_depth': 12}</td>\n",
       "      <td>0.7598</td>\n",
       "      <td>0.7396</td>\n",
       "    </tr>\n",
       "    <tr>\n",
       "      <th>27</th>\n",
       "      <td>KNeighbors</td>\n",
       "      <td>{'model__n_neighbors': 10}</td>\n",
       "      <td>0.7542</td>\n",
       "      <td>0.7221</td>\n",
       "    </tr>\n",
       "    <tr>\n",
       "      <th>28</th>\n",
       "      <td>KNeighbors</td>\n",
       "      <td>{'model__n_neighbors': 5}</td>\n",
       "      <td>0.7430</td>\n",
       "      <td>0.7148</td>\n",
       "    </tr>\n",
       "  </tbody>\n",
       "</table>\n",
       "</div>"
      ],
      "text/plain": [
       "      MODEL_NAME                                                   PARAMS  \\\n",
       "0            XGB   {'model__learning_rate': 0.01, 'model__max_depth': 12}   \n",
       "1            XGB   {'model__learning_rate': 0.001, 'model__max_depth': 7}   \n",
       "2            XGB     {'model__learning_rate': 0.1, 'model__max_depth': 5}   \n",
       "3            XGB   {'model__learning_rate': 0.01, 'model__max_depth': 10}   \n",
       "4            XGB     {'model__learning_rate': 0.1, 'model__max_depth': 3}   \n",
       "5            XGB    {'model__learning_rate': 0.05, 'model__max_depth': 7}   \n",
       "6            XGB  {'model__learning_rate': 0.001, 'model__max_depth': 10}   \n",
       "7            XGB  {'model__learning_rate': 0.001, 'model__max_depth': 12}   \n",
       "8            XGB    {'model__learning_rate': 0.01, 'model__max_depth': 7}   \n",
       "9            XGB    {'model__learning_rate': 0.05, 'model__max_depth': 5}   \n",
       "10           XGB    {'model__learning_rate': 0.01, 'model__max_depth': 5}   \n",
       "11           XGB    {'model__learning_rate': 0.05, 'model__max_depth': 3}   \n",
       "12           XGB   {'model__learning_rate': 0.001, 'model__max_depth': 5}   \n",
       "13  RandomForest                                  {'model__max_depth': 5}   \n",
       "14           XGB     {'model__learning_rate': 0.1, 'model__max_depth': 7}   \n",
       "15           XGB    {'model__learning_rate': 0.01, 'model__max_depth': 3}   \n",
       "16           XGB   {'model__learning_rate': 0.05, 'model__max_depth': 12}   \n",
       "17           XGB   {'model__learning_rate': 0.05, 'model__max_depth': 10}   \n",
       "18           XGB    {'model__learning_rate': 0.1, 'model__max_depth': 10}   \n",
       "19           XGB    {'model__learning_rate': 0.1, 'model__max_depth': 12}   \n",
       "20           XGB   {'model__learning_rate': 0.001, 'model__max_depth': 3}   \n",
       "21  RandomForest                                  {'model__max_depth': 7}   \n",
       "22  RandomForest                                  {'model__max_depth': 6}   \n",
       "23  RandomForest                                 {'model__max_depth': 10}   \n",
       "24  RandomForest                                  {'model__max_depth': 3}   \n",
       "25    KNeighbors                               {'model__n_neighbors': 15}   \n",
       "26  RandomForest                                 {'model__max_depth': 12}   \n",
       "27    KNeighbors                               {'model__n_neighbors': 10}   \n",
       "28    KNeighbors                                {'model__n_neighbors': 5}   \n",
       "\n",
       "    ACCURACY  BAL_ACCURACY  \n",
       "0     0.8101        0.7799  \n",
       "1     0.8101        0.7842  \n",
       "2     0.8045        0.7752  \n",
       "3     0.8045        0.7731  \n",
       "4     0.8045        0.7773  \n",
       "5     0.8045        0.7752  \n",
       "6     0.7989        0.7684  \n",
       "7     0.7989        0.7684  \n",
       "8     0.7989        0.7684  \n",
       "9     0.7933        0.7594  \n",
       "10    0.7933        0.7594  \n",
       "11    0.7877        0.7547  \n",
       "12    0.7877        0.7547  \n",
       "13    0.7821        0.7457  \n",
       "14    0.7821        0.7542  \n",
       "15    0.7821        0.7435  \n",
       "16    0.7765        0.7516  \n",
       "17    0.7765        0.7516  \n",
       "18    0.7765        0.7537  \n",
       "19    0.7765        0.7537  \n",
       "20    0.7765        0.7388  \n",
       "21    0.7765        0.7431  \n",
       "22    0.7765        0.7410  \n",
       "23    0.7709        0.7405  \n",
       "24    0.7709        0.7298  \n",
       "25    0.7709        0.7384  \n",
       "26    0.7598        0.7396  \n",
       "27    0.7542        0.7221  \n",
       "28    0.7430        0.7148  "
      ]
     },
     "execution_count": 29,
     "metadata": {},
     "output_type": "execute_result"
    }
   ],
   "source": [
    "models_res"
   ]
  },
  {
   "cell_type": "code",
   "execution_count": 48,
   "metadata": {
    "scrolled": true
   },
   "outputs": [
    {
     "name": "stdout",
     "output_type": "stream",
     "text": [
      "XGB, accuracy: 0.810\n",
      "[[100   6]\n",
      " [ 28  45]]\n"
     ]
    },
    {
     "data": {
      "image/png": "[encoded data removed]",
      "text/plain": [
       "<Figure size 720x720 with 1 Axes>"
      ]
     },
     "metadata": {},
     "output_type": "display_data"
    },
    {
     "name": "stdout",
     "output_type": "stream",
     "text": [
      "XGB, accuracy: 0.810\n",
      "[[98  8]\n",
      " [26 47]]\n"
     ]
    },
    {
     "data": {
      "image/png": "[encoded data removed]",
      "text/plain": [
       "<Figure size 720x720 with 1 Axes>"
      ]
     },
     "metadata": {},
     "output_type": "display_data"
    },
    {
     "name": "stdout",
     "output_type": "stream",
     "text": [
      "XGB, accuracy: 0.804\n",
      "[[99  7]\n",
      " [28 45]]\n"
     ]
    },
    {
     "data": {
      "image/png": "[encoded data removed]",
      "text/plain": [
       "<Figure size 720x720 with 1 Axes>"
      ]
     },
     "metadata": {},
     "output_type": "display_data"
    }
   ],
   "source": [
    "for idx, row in models_res.iloc[:3,:].iterrows():\n",
    "    model_name = row['MODEL_NAME']\n",
    "    models_idx = models_names.index(model_name)\n",
    "    model = models[models_idx].set_params(**row['PARAMS'])\n",
    "    model.fit(X_train, y_train)\n",
    "    pred = model.predict(X_test)\n",
    "    pred_proba = pd.DataFrame(model.predict_proba(X_test), index=X_test.index, columns = ['PRED_0','PRED_1'])\n",
    "    accuracy = accuracy_score(y_test, pred)\n",
    "    print(f\"{model_name}, accuracy: {accuracy:0.3f}\")\n",
    "    print(confusion_matrix(y_test, pred))\n",
    "    plt.figure(figsize=(10,10))\n",
    "    pred_proba['PRED_1'].hist(bins=20)\n",
    "    plt.show()"
   ]
  },
  {
   "cell_type": "code",
   "execution_count": 56,
   "metadata": {},
   "outputs": [],
   "source": [
    "models_to_vote = []\n",
    "\n",
    "for idx, row in models_res.iloc[:3,:].iterrows():\n",
    "    model_name = row['MODEL_NAME']\n",
    "    models_idx = models_names.index(model_name)\n",
    "    model = models[models_idx].set_params(**row['PARAMS'])\n",
    "    model.fit(X_train, y_train)\n",
    "    models_to_vote.append(model)\n",
    "    \n",
    "vote = EnsembleVoteClassifier(clfs=models_to_vote, voting='soft')\n",
    "grid_param = {'weights': [[1, 1, 1], [1, 1, 2], [2, 1, 1], [1, 2, 1]]}\n",
    "\n",
    "voting_models_res = []\n",
    "params = ParameterGrid(grid_param)\n",
    "for param in params:\n",
    "    vote.set_params(**param)\n",
    "    vote.fit(X_train, y_train)\n",
    "    pred = vote.predict(X_test)\n",
    "    pred = [[p] for p in pred]\n",
    "    accuracy = accuracy_score(y_test, pred)\n",
    "    balanced_accuracy = balanced_accuracy_score(y_test, pred)\n",
    "    voting_models_res.append({'MODEL_NAME': model_name, 'PARAMS': param, 'ACCURACY': accuracy, 'BAL_ACCURACY': balanced_accuracy})\n",
    "voting_models_res = pd.DataFrame(voting_models_res)[['MODEL_NAME','PARAMS','ACCURACY','BAL_ACCURACY']].sort_values('ACCURACY',ascending=False).reset_index(drop=True)\n"
   ]
  },
  {
   "cell_type": "code",
   "execution_count": 57,
   "metadata": {},
   "outputs": [
    {
     "data": {
      "text/html": [
       "<div>\n",
       "<style scoped>\n",
       "    .dataframe tbody tr th:only-of-type {\n",
       "        vertical-align: middle;\n",
       "    }\n",
       "\n",
       "    .dataframe tbody tr th {\n",
       "        vertical-align: top;\n",
       "    }\n",
       "\n",
       "    .dataframe thead th {\n",
       "        text-align: right;\n",
       "    }\n",
       "</style>\n",
       "<table border=\"1\" class=\"dataframe\">\n",
       "  <thead>\n",
       "    <tr style=\"text-align: right;\">\n",
       "      <th></th>\n",
       "      <th>MODEL_NAME</th>\n",
       "      <th>PARAMS</th>\n",
       "      <th>ACCURACY</th>\n",
       "      <th>BAL_ACCURACY</th>\n",
       "    </tr>\n",
       "  </thead>\n",
       "  <tbody>\n",
       "    <tr>\n",
       "      <th>0</th>\n",
       "      <td>XGB</td>\n",
       "      <td>{'weights': [1, 1, 1]}</td>\n",
       "      <td>0.8045</td>\n",
       "      <td>0.7752</td>\n",
       "    </tr>\n",
       "    <tr>\n",
       "      <th>1</th>\n",
       "      <td>XGB</td>\n",
       "      <td>{'weights': [1, 1, 2]}</td>\n",
       "      <td>0.8045</td>\n",
       "      <td>0.7752</td>\n",
       "    </tr>\n",
       "    <tr>\n",
       "      <th>2</th>\n",
       "      <td>XGB</td>\n",
       "      <td>{'weights': [2, 1, 1]}</td>\n",
       "      <td>0.8045</td>\n",
       "      <td>0.7752</td>\n",
       "    </tr>\n",
       "    <tr>\n",
       "      <th>3</th>\n",
       "      <td>XGB</td>\n",
       "      <td>{'weights': [1, 2, 1]}</td>\n",
       "      <td>0.8045</td>\n",
       "      <td>0.7752</td>\n",
       "    </tr>\n",
       "  </tbody>\n",
       "</table>\n",
       "</div>"
      ],
      "text/plain": [
       "  MODEL_NAME                  PARAMS  ACCURACY  BAL_ACCURACY\n",
       "0        XGB  {'weights': [1, 1, 1]}    0.8045        0.7752\n",
       "1        XGB  {'weights': [1, 1, 2]}    0.8045        0.7752\n",
       "2        XGB  {'weights': [2, 1, 1]}    0.8045        0.7752\n",
       "3        XGB  {'weights': [1, 2, 1]}    0.8045        0.7752"
      ]
     },
     "execution_count": 57,
     "metadata": {},
     "output_type": "execute_result"
    }
   ],
   "source": [
    "voting_models_res"
   ]
  },
  {
   "cell_type": "code",
   "execution_count": 58,
   "metadata": {},
   "outputs": [
    {
     "name": "stdout",
     "output_type": "stream",
     "text": [
      "XGB, accuracy: 0.804\n",
      "[[99  7]\n",
      " [28 45]]\n"
     ]
    },
    {
     "data": {
      "image/png": "[encoded data removed]",
      "text/plain": [
       "<Figure size 720x720 with 1 Axes>"
      ]
     },
     "metadata": {},
     "output_type": "display_data"
    }
   ],
   "source": [
    "\n",
    "vote.set_params(**voting_models_res['PARAMS'].loc[0])\n",
    "vote.fit(X_train, y_train)\n",
    "pred = vote.predict(X_test)\n",
    "\n",
    "pred_proba = pd.DataFrame(model.predict_proba(X_test), index=X_test.index, columns = ['PRED_0','PRED_1'])\n",
    "accuracy = accuracy_score(y_test, pred)\n",
    "print(f\"{model_name}, accuracy: {accuracy:0.3f}\")\n",
    "print(confusion_matrix(y_test, pred))\n",
    "plt.figure(figsize=(10,10))\n",
    "pred_proba['PRED_1'].hist(bins=20)\n",
    "plt.show()"
   ]
  },
  {
   "cell_type": "code",
   "execution_count": 59,
   "metadata": {
    "collapsed": true
   },
   "outputs": [],
   "source": [
    "test = pd.read_csv(os.path.join(project_path, r'data\\test_lb.csv')).set_index('PassengerId')"
   ]
  },
  {
   "cell_type": "code",
   "execution_count": 60,
   "metadata": {
    "collapsed": true
   },
   "outputs": [],
   "source": [
    "pred_lb = vote.predict(test)\n",
    "pred_lb = pd.DataFrame(pred_lb, columns = ['Survived'], index=test.index).reset_index()\n",
    "pred_lb.to_csv(os.path.join(project_path, r'data\\submission.csv'),index=False)"
   ]
  },
  {
   "cell_type": "code",
   "execution_count": null,
   "metadata": {
    "collapsed": true
   },
   "outputs": [],
   "source": []
  }
 ],
 "metadata": {
  "kernelspec": {
   "display_name": "Python 3",
   "language": "python",
   "name": "python3"
  },
  "language_info": {
   "codemirror_mode": {
    "name": "ipython",
    "version": 3
   },
   "file_extension": ".py",
   "mimetype": "text/x-python",
   "name": "python",
   "nbconvert_exporter": "python",
   "pygments_lexer": "ipython3",
   "version": "3.6.6"
  }
 },
 "nbformat": 4,
 "nbformat_minor": 2
}

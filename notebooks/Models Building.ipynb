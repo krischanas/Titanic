{
 "cells": [
  {
   "cell_type": "code",
   "execution_count": 1,
   "metadata": {
    "collapsed": true
   },
   "outputs": [],
   "source": [
    "import matplotlib.pyplot as plt\n",
    "%matplotlib inline\n",
    "import numpy as np\n",
    "import os\n",
    "import pandas as pd\n",
    "import seaborn as sns\n",
    "\n",
    "#from IPython.core.interactiveshell import InteractiveShell\n",
    "#InteractiveShell.ast_node_interactivity = \"all\"\n",
    "\n",
    "pd.pandas.set_option('display.max_columns', None)\n",
    "pd.options.display.float_format = '{:,.4f}'.format\n",
    "pd.set_option('display.max_colwidth', 120)\n",
    "import pickle\n",
    "import warnings\n",
    "warnings.simplefilter(action='ignore')\n",
    "\n",
    "from sklearn.ensemble import RandomForestClassifier\n",
    "from sklearn.neighbors import KNeighborsClassifier\n",
    "from sklearn.metrics import accuracy_score, balanced_accuracy_score, classification_report, confusion_matrix, roc_auc_score\n",
    "from sklearn.model_selection import GridSearchCV, KFold, ParameterGrid\n",
    "from sklearn.pipeline import Pipeline, make_pipeline\n",
    "from xgboost.sklearn import XGBClassifier\n",
    "from mlxtend.classifier import EnsembleVoteClassifier\n",
    "from sklearn.base import BaseEstimator, TransformerMixin\n",
    "from sklearn.decomposition import PCA\n",
    "from imblearn.over_sampling import SMOTE\n",
    "from sklearn.linear_model import LogisticRegression\n",
    "from sklearn.svm import SVC\n",
    "from sklearn.calibration import CalibratedClassifierCV\n",
    "from yellowbrick.classifier import ClassificationReport, ConfusionMatrix"
   ]
  },
  {
   "cell_type": "code",
   "execution_count": 2,
   "metadata": {
    "collapsed": true
   },
   "outputs": [],
   "source": [
    "project_path = r'C:\\Users\\kchanas\\Documents\\Learning\\Kaggle\\Titanic'\n",
    "X_train = pd.read_csv(os.path.join(project_path, r'data\\X_train.csv'), index_col=0)\n",
    "y_train = pd.read_csv(os.path.join(project_path, r'data\\y_train.csv'), index_col=0, names=['Survived'], header=0)\n",
    "X_test = pd.read_csv(os.path.join(project_path, r'data\\X_test.csv'), index_col=0)\n",
    "y_test = pd.read_csv(os.path.join(project_path, r'data\\y_test.csv'), index_col=0, names=['Survived'], header=0)"
   ]
  },
  {
   "cell_type": "code",
   "execution_count": 3,
   "metadata": {
    "collapsed": true
   },
   "outputs": [],
   "source": [
    "with open(os.path.join(project_path, r'data\\svc_selected_features.txt'), \"rb\") as f:\n",
    "      svc_selected_features = pickle.load(f)\n",
    "\n",
    "with open(os.path.join(project_path, r'data\\lr_selected_features.txt'), \"rb\") as f:\n",
    "      lr_selected_features = pickle.load(f)\n",
    "\n",
    "with open(os.path.join(project_path, r'data\\kn_selected_features.txt'), \"rb\") as f:\n",
    "      kn_selected_features = pickle.load(f)\n",
    "        \n",
    "with open(os.path.join(project_path, r'data\\rf_selected_features.txt'), \"rb\") as f:\n",
    "      rf_selected_features = pickle.load(f)\n",
    "        \n",
    "with open(os.path.join(project_path, r'data\\xgb_selected_features.txt'), \"rb\") as f:\n",
    "      xgb_selected_features = pickle.load(f)\n",
    "        "
   ]
  },
  {
   "cell_type": "code",
   "execution_count": 4,
   "metadata": {
    "collapsed": true
   },
   "outputs": [],
   "source": [
    "svc_selected_features_idx = [X_train.columns.get_loc(c) for c in svc_selected_features if c in X_train]\n",
    "lr_selected_features_idx = [X_train.columns.get_loc(c) for c in lr_selected_features if c in X_train]\n",
    "kn_selected_features_idx = [X_train.columns.get_loc(c) for c in kn_selected_features if c in X_train]\n",
    "rf_selected_features_idx = [X_train.columns.get_loc(c) for c in rf_selected_features if c in X_train]\n",
    "xgb_selected_features_idx = [X_train.columns.get_loc(c) for c in xgb_selected_features if c in X_train]\n"
   ]
  },
  {
   "cell_type": "code",
   "execution_count": 5,
   "metadata": {},
   "outputs": [
    {
     "data": {
      "text/plain": [
       "array([0.26739228, 0.5215989 , 0.7070183 , 0.8699606 , 0.91973286,\n",
       "       0.96414953, 0.98518064, 1.        ])"
      ]
     },
     "execution_count": 5,
     "metadata": {},
     "output_type": "execute_result"
    }
   ],
   "source": [
    "pca = PCA()\n",
    "pca.fit(X_train.iloc[:,svc_selected_features_idx])\n",
    "pca.explained_variance_ratio_.cumsum()"
   ]
  },
  {
   "cell_type": "code",
   "execution_count": 6,
   "metadata": {},
   "outputs": [
    {
     "data": {
      "text/plain": [
       "array([0.3341736 , 0.48683966, 0.59949946, 0.69601983, 0.76239344,\n",
       "       0.81393656, 0.84913301, 0.88338036, 0.903679  , 0.92252769,\n",
       "       0.93820091, 0.95150933, 0.96275546, 0.97092083, 0.97896824,\n",
       "       0.98598276, 0.99216973, 0.99532173, 0.99785405, 0.9989295 ,\n",
       "       0.99962797, 1.        , 1.        ])"
      ]
     },
     "execution_count": 6,
     "metadata": {},
     "output_type": "execute_result"
    }
   ],
   "source": [
    "pca = PCA()\n",
    "pca.fit(X_train.iloc[:,lr_selected_features_idx])\n",
    "pca.explained_variance_ratio_.cumsum()"
   ]
  },
  {
   "cell_type": "code",
   "execution_count": 7,
   "metadata": {},
   "outputs": [
    {
     "data": {
      "text/plain": [
       "array([0.38915626, 0.72303233, 0.96866409, 0.99195216, 1.        ])"
      ]
     },
     "execution_count": 7,
     "metadata": {},
     "output_type": "execute_result"
    }
   ],
   "source": [
    "pca = PCA()\n",
    "pca.fit(X_train.iloc[:,kn_selected_features_idx])\n",
    "pca.explained_variance_ratio_.cumsum()"
   ]
  },
  {
   "cell_type": "code",
   "execution_count": 8,
   "metadata": {},
   "outputs": [
    {
     "data": {
      "text/plain": [
       "array([0.3629888 , 0.59229041, 0.77282379, 0.92606988, 0.98139092,\n",
       "       1.        ])"
      ]
     },
     "execution_count": 8,
     "metadata": {},
     "output_type": "execute_result"
    }
   ],
   "source": [
    "pca = PCA()\n",
    "pca.fit(X_train.iloc[:,rf_selected_features_idx])\n",
    "pca.explained_variance_ratio_.cumsum()"
   ]
  },
  {
   "cell_type": "code",
   "execution_count": 9,
   "metadata": {},
   "outputs": [
    {
     "data": {
      "text/plain": [
       "array([0.34939106, 0.55156113, 0.69557708, 0.82346403, 0.90371519,\n",
       "       0.97264873, 0.98828985, 0.99895802, 1.        ])"
      ]
     },
     "execution_count": 9,
     "metadata": {},
     "output_type": "execute_result"
    }
   ],
   "source": [
    "pca = PCA()\n",
    "pca.fit(X_train.iloc[:,xgb_selected_features_idx])\n",
    "pca.explained_variance_ratio_.cumsum()"
   ]
  },
  {
   "cell_type": "code",
   "execution_count": 10,
   "metadata": {
    "collapsed": true
   },
   "outputs": [],
   "source": [
    "class ItemsSelector(BaseEstimator, TransformerMixin):\n",
    "    def __init__(self, keys: list):\n",
    "        self.keys = keys\n",
    "\n",
    "    def fit(self, x, y=None):\n",
    "        return self\n",
    "\n",
    "    def transform(self, dataframe):\n",
    "        return np.array(dataframe)[:,self.keys]"
   ]
  },
  {
   "cell_type": "markdown",
   "metadata": {},
   "source": [
    "## Training models"
   ]
  },
  {
   "cell_type": "code",
   "execution_count": 11,
   "metadata": {
    "collapsed": true
   },
   "outputs": [],
   "source": [
    "cv = KFold(n_splits=5, random_state=1)"
   ]
  },
  {
   "cell_type": "code",
   "execution_count": 12,
   "metadata": {
    "collapsed": true
   },
   "outputs": [],
   "source": [
    "pipe_svc = Pipeline([('select_items', ItemsSelector(keys=svc_selected_features_idx)),\n",
    "                    ('pca', PCA(n_components=0.7)),\n",
    "                   ('model', CalibratedClassifierCV(SVC(random_state=1, probability=True),cv=cv))\n",
    "])\n",
    "\n",
    "\n",
    "pipe_lr = Pipeline([('select_items', ItemsSelector(keys=kn_selected_features_idx)),\n",
    "                    ('pca', PCA(n_components=0.7)),\n",
    "                   ('model', CalibratedClassifierCV(LogisticRegression(random_state=1, max_iter=200),cv=cv))\n",
    "])\n",
    "\n",
    "pipe_kn = Pipeline([('select_items', ItemsSelector(keys=kn_selected_features_idx)),\n",
    "                   ('pca', PCA(n_components=0.7)),\n",
    "                   ('model', CalibratedClassifierCV(KNeighborsClassifier(),cv=cv))\n",
    "])\n",
    "\n",
    "pipe_rf = Pipeline([('select_items', ItemsSelector(keys=rf_selected_features_idx)),\n",
    "                    ('pca', PCA(n_components=0.7)),\n",
    "                       ('model', CalibratedClassifierCV(RandomForestClassifier(n_estimators=200, \n",
    "                                                                               oob_score=True, random_state=1),cv=cv))\n",
    "])\n",
    "\n",
    "pipe_xgb = Pipeline([('select_items', ItemsSelector(keys=xgb_selected_features_idx)),\n",
    "                     ('pca', PCA(n_components=0.7)),\n",
    "                       ('model', CalibratedClassifierCV(XGBClassifier(random_state=1, n_estimators=200),cv=cv))\n",
    "])"
   ]
  },
  {
   "cell_type": "code",
   "execution_count": 13,
   "metadata": {
    "collapsed": true
   },
   "outputs": [],
   "source": [
    "grid_params_svc = {'model__base_estimator__C': [0.001, 0.01, 0.02, 0.05, 0.1, 0.3, 0.5, 0.7],\n",
    "                   'model__base_estimator__kernel': ['linear','poly','rbf','sigmoid']}\n",
    "\n",
    "grid_params_lr = {'model__base_estimator__C': [0.001, 0.01, 0.02, 0.05, 0.1, 0.3, 0.5, 0.7]\n",
    "                 }\n",
    "\n",
    "grid_params_kn = {'model__base_estimator__n_neighbors': [2, 5, 10, 15, 20, 30]\n",
    "                 }\n",
    "\n",
    "grid_params_rf = {'model__base_estimator__max_depth':[3, 5, 6, 7, 10, 12, 15, 20, 30] \n",
    "                 }\n",
    "\n",
    "grid_params_xgb = {'model__base_estimator__learning_rate':[0.001, 0.01, 0.05, 0.1, 0.2, 0.3, 0.4, 0.5],\n",
    "                   'model__base_estimator__max_depth':[3, 5, 7, 10, 12, 15, 20, 25] \n",
    "                 }"
   ]
  },
  {
   "cell_type": "code",
   "execution_count": 14,
   "metadata": {
    "collapsed": true
   },
   "outputs": [],
   "source": [
    "models_names = ['SVC','LogisticRegression','KNeighbors', 'RandomForest', 'XGB']\n",
    "models = [pipe_svc, pipe_lr, pipe_kn, pipe_rf, pipe_xgb]\n",
    "grid_params = [grid_params_svc, grid_params_lr, grid_params_kn, grid_params_rf, grid_params_xgb]"
   ]
  },
  {
   "cell_type": "code",
   "execution_count": 15,
   "metadata": {
    "collapsed": true
   },
   "outputs": [],
   "source": [
    "thresholds = [n/20 for n in range(1,20)]"
   ]
  },
  {
   "cell_type": "code",
   "execution_count": 16,
   "metadata": {},
   "outputs": [
    {
     "data": {
      "text/plain": [
       "(621, 45)"
      ]
     },
     "execution_count": 16,
     "metadata": {},
     "output_type": "execute_result"
    }
   ],
   "source": [
    "X_train.shape"
   ]
  },
  {
   "cell_type": "code",
   "execution_count": 17,
   "metadata": {
    "collapsed": true
   },
   "outputs": [],
   "source": [
    "sm = SMOTE(sampling_strategy='auto', random_state=1)\n",
    "X_train_cols = X_train.columns\n",
    "X_train, y_train = sm.fit_sample(X_train, y_train)\n",
    "X_train = pd.DataFrame(X_train, columns = X_train_cols)\n",
    "y_train = pd.Series(y_train['Survived'])"
   ]
  },
  {
   "cell_type": "code",
   "execution_count": 18,
   "metadata": {},
   "outputs": [
    {
     "data": {
      "text/plain": [
       "(768, 45)"
      ]
     },
     "execution_count": 18,
     "metadata": {},
     "output_type": "execute_result"
    }
   ],
   "source": [
    "X_train.shape"
   ]
  },
  {
   "cell_type": "code",
   "execution_count": 19,
   "metadata": {
    "collapsed": true,
    "scrolled": true
   },
   "outputs": [],
   "source": [
    "models_res = []\n",
    "for model_name, model, grid_param in zip(models_names, models, grid_params):\n",
    "    params = ParameterGrid(grid_param)\n",
    "    for param in params:\n",
    "        model.set_params(**param)\n",
    "        model.fit(X_train, y_train)\n",
    "        y_probas = pd.DataFrame(model.predict_proba(X_test), index=X_test.index, columns = ['Prob_0','Prob_1'])\n",
    "        train_y_probas = pd.DataFrame(model.predict_proba(X_train), index=X_train.index, columns = ['Prob_0','Prob_1'])\n",
    "        auc = roc_auc_score(y_test, y_probas['Prob_1'])\n",
    "        train_auc = roc_auc_score(y_train, train_y_probas['Prob_1']) \n",
    "        best_accuracy = 0\n",
    "        best_train_accuracy = 0\n",
    "        best_threshold = 0\n",
    "        best_train_threshold = 0\n",
    "        for threshold in thresholds:\n",
    "            pred = np.where(y_probas['Prob_1']>=threshold, 1, 0)\n",
    "            train_pred = np.where(train_y_probas['Prob_1']>=threshold, 1, 0)\n",
    "            accuracy = accuracy_score(y_test, pred)\n",
    "            train_accuracy = accuracy_score(y_train, train_pred)\n",
    "            if accuracy > best_accuracy:\n",
    "                best_accuracy = accuracy\n",
    "                best_threshold = threshold\n",
    "            if train_accuracy > best_train_accuracy:\n",
    "                best_train_accuracy = train_accuracy\n",
    "                best_train_threshold = threshold\n",
    "        models_res.append({'MODEL_NAME': model_name, 'PARAMS': param, 'AUC': auc, 'TRAIN_AUC': train_auc, \n",
    "                           'ACCURACY': best_accuracy, 'THRESHOLD': best_threshold, 'TRAIN_ACCURACY': best_train_accuracy,\n",
    "                          'TRAIN_THRESHOLD': best_train_threshold})\n",
    "models_res = pd.DataFrame(models_res)[['MODEL_NAME','PARAMS','AUC','TRAIN_AUC','ACCURACY','THRESHOLD',\n",
    "                                      'TRAIN_ACCURACY','TRAIN_THRESHOLD']].sort_values('AUC',ascending=False).reset_index(drop=True)\n"
   ]
  },
  {
   "cell_type": "code",
   "execution_count": 20,
   "metadata": {
    "scrolled": false
   },
   "outputs": [
    {
     "data": {
      "text/html": [
       "<div>\n",
       "<style scoped>\n",
       "    .dataframe tbody tr th:only-of-type {\n",
       "        vertical-align: middle;\n",
       "    }\n",
       "\n",
       "    .dataframe tbody tr th {\n",
       "        vertical-align: top;\n",
       "    }\n",
       "\n",
       "    .dataframe thead th {\n",
       "        text-align: right;\n",
       "    }\n",
       "</style>\n",
       "<table border=\"1\" class=\"dataframe\">\n",
       "  <thead>\n",
       "    <tr style=\"text-align: right;\">\n",
       "      <th></th>\n",
       "      <th>MODEL_NAME</th>\n",
       "      <th>PARAMS</th>\n",
       "      <th>AUC</th>\n",
       "      <th>TRAIN_AUC</th>\n",
       "      <th>ACCURACY</th>\n",
       "      <th>THRESHOLD</th>\n",
       "      <th>TRAIN_ACCURACY</th>\n",
       "      <th>TRAIN_THRESHOLD</th>\n",
       "    </tr>\n",
       "  </thead>\n",
       "  <tbody>\n",
       "    <tr>\n",
       "      <th>0</th>\n",
       "      <td>KNeighbors</td>\n",
       "      <td>{'model__base_estimator__n_neighbors': 30}</td>\n",
       "      <td>0.8628</td>\n",
       "      <td>0.8776</td>\n",
       "      <td>0.8097</td>\n",
       "      <td>0.6500</td>\n",
       "      <td>0.7904</td>\n",
       "      <td>0.6000</td>\n",
       "    </tr>\n",
       "    <tr>\n",
       "      <th>1</th>\n",
       "      <td>SVC</td>\n",
       "      <td>{'model__base_estimator__C': 0.7, 'model__base_estimator__kernel': 'rbf'}</td>\n",
       "      <td>0.8601</td>\n",
       "      <td>0.8600</td>\n",
       "      <td>0.8060</td>\n",
       "      <td>0.7000</td>\n",
       "      <td>0.7995</td>\n",
       "      <td>0.5500</td>\n",
       "    </tr>\n",
       "    <tr>\n",
       "      <th>2</th>\n",
       "      <td>XGB</td>\n",
       "      <td>{'model__base_estimator__learning_rate': 0.3, 'model__base_estimator__max_depth': 3}</td>\n",
       "      <td>0.8599</td>\n",
       "      <td>0.9796</td>\n",
       "      <td>0.8209</td>\n",
       "      <td>0.6000</td>\n",
       "      <td>0.9310</td>\n",
       "      <td>0.5500</td>\n",
       "    </tr>\n",
       "    <tr>\n",
       "      <th>3</th>\n",
       "      <td>XGB</td>\n",
       "      <td>{'model__base_estimator__learning_rate': 0.05, 'model__base_estimator__max_depth': 5}</td>\n",
       "      <td>0.8597</td>\n",
       "      <td>0.9702</td>\n",
       "      <td>0.8209</td>\n",
       "      <td>0.5500</td>\n",
       "      <td>0.9076</td>\n",
       "      <td>0.5500</td>\n",
       "    </tr>\n",
       "    <tr>\n",
       "      <th>4</th>\n",
       "      <td>XGB</td>\n",
       "      <td>{'model__base_estimator__learning_rate': 0.1, 'model__base_estimator__max_depth': 3}</td>\n",
       "      <td>0.8593</td>\n",
       "      <td>0.9616</td>\n",
       "      <td>0.8097</td>\n",
       "      <td>0.5500</td>\n",
       "      <td>0.8971</td>\n",
       "      <td>0.5500</td>\n",
       "    </tr>\n",
       "    <tr>\n",
       "      <th>5</th>\n",
       "      <td>XGB</td>\n",
       "      <td>{'model__base_estimator__learning_rate': 0.4, 'model__base_estimator__max_depth': 3}</td>\n",
       "      <td>0.8593</td>\n",
       "      <td>0.9809</td>\n",
       "      <td>0.8209</td>\n",
       "      <td>0.6000</td>\n",
       "      <td>0.9323</td>\n",
       "      <td>0.5500</td>\n",
       "    </tr>\n",
       "    <tr>\n",
       "      <th>6</th>\n",
       "      <td>XGB</td>\n",
       "      <td>{'model__base_estimator__learning_rate': 0.2, 'model__base_estimator__max_depth': 3}</td>\n",
       "      <td>0.8586</td>\n",
       "      <td>0.9757</td>\n",
       "      <td>0.8134</td>\n",
       "      <td>0.6000</td>\n",
       "      <td>0.9206</td>\n",
       "      <td>0.6000</td>\n",
       "    </tr>\n",
       "    <tr>\n",
       "      <th>7</th>\n",
       "      <td>XGB</td>\n",
       "      <td>{'model__base_estimator__learning_rate': 0.1, 'model__base_estimator__max_depth': 5}</td>\n",
       "      <td>0.8583</td>\n",
       "      <td>0.9783</td>\n",
       "      <td>0.8134</td>\n",
       "      <td>0.6000</td>\n",
       "      <td>0.9284</td>\n",
       "      <td>0.5500</td>\n",
       "    </tr>\n",
       "    <tr>\n",
       "      <th>8</th>\n",
       "      <td>SVC</td>\n",
       "      <td>{'model__base_estimator__C': 0.5, 'model__base_estimator__kernel': 'rbf'}</td>\n",
       "      <td>0.8583</td>\n",
       "      <td>0.8574</td>\n",
       "      <td>0.8097</td>\n",
       "      <td>0.7000</td>\n",
       "      <td>0.7956</td>\n",
       "      <td>0.5500</td>\n",
       "    </tr>\n",
       "    <tr>\n",
       "      <th>9</th>\n",
       "      <td>XGB</td>\n",
       "      <td>{'model__base_estimator__learning_rate': 0.05, 'model__base_estimator__max_depth': 7}</td>\n",
       "      <td>0.8581</td>\n",
       "      <td>0.9779</td>\n",
       "      <td>0.8097</td>\n",
       "      <td>0.6000</td>\n",
       "      <td>0.9258</td>\n",
       "      <td>0.5000</td>\n",
       "    </tr>\n",
       "    <tr>\n",
       "      <th>10</th>\n",
       "      <td>XGB</td>\n",
       "      <td>{'model__base_estimator__learning_rate': 0.2, 'model__base_estimator__max_depth': 5}</td>\n",
       "      <td>0.8570</td>\n",
       "      <td>0.9819</td>\n",
       "      <td>0.8246</td>\n",
       "      <td>0.6000</td>\n",
       "      <td>0.9323</td>\n",
       "      <td>0.5000</td>\n",
       "    </tr>\n",
       "    <tr>\n",
       "      <th>11</th>\n",
       "      <td>XGB</td>\n",
       "      <td>{'model__base_estimator__learning_rate': 0.5, 'model__base_estimator__max_depth': 5}</td>\n",
       "      <td>0.8564</td>\n",
       "      <td>0.9828</td>\n",
       "      <td>0.8209</td>\n",
       "      <td>0.6000</td>\n",
       "      <td>0.9323</td>\n",
       "      <td>0.5000</td>\n",
       "    </tr>\n",
       "    <tr>\n",
       "      <th>12</th>\n",
       "      <td>XGB</td>\n",
       "      <td>{'model__base_estimator__learning_rate': 0.3, 'model__base_estimator__max_depth': 5}</td>\n",
       "      <td>0.8562</td>\n",
       "      <td>0.9823</td>\n",
       "      <td>0.8246</td>\n",
       "      <td>0.6000</td>\n",
       "      <td>0.9323</td>\n",
       "      <td>0.5000</td>\n",
       "    </tr>\n",
       "    <tr>\n",
       "      <th>13</th>\n",
       "      <td>XGB</td>\n",
       "      <td>{'model__base_estimator__learning_rate': 0.01, 'model__base_estimator__max_depth': 15}</td>\n",
       "      <td>0.8560</td>\n",
       "      <td>0.9675</td>\n",
       "      <td>0.8209</td>\n",
       "      <td>0.6000</td>\n",
       "      <td>0.9023</td>\n",
       "      <td>0.5000</td>\n",
       "    </tr>\n",
       "    <tr>\n",
       "      <th>14</th>\n",
       "      <td>XGB</td>\n",
       "      <td>{'model__base_estimator__learning_rate': 0.01, 'model__base_estimator__max_depth': 10}</td>\n",
       "      <td>0.8560</td>\n",
       "      <td>0.9657</td>\n",
       "      <td>0.8246</td>\n",
       "      <td>0.6000</td>\n",
       "      <td>0.8997</td>\n",
       "      <td>0.5500</td>\n",
       "    </tr>\n",
       "    <tr>\n",
       "      <th>15</th>\n",
       "      <td>XGB</td>\n",
       "      <td>{'model__base_estimator__learning_rate': 0.01, 'model__base_estimator__max_depth': 12}</td>\n",
       "      <td>0.8559</td>\n",
       "      <td>0.9672</td>\n",
       "      <td>0.8284</td>\n",
       "      <td>0.5500</td>\n",
       "      <td>0.9023</td>\n",
       "      <td>0.5000</td>\n",
       "    </tr>\n",
       "    <tr>\n",
       "      <th>16</th>\n",
       "      <td>XGB</td>\n",
       "      <td>{'model__base_estimator__learning_rate': 0.1, 'model__base_estimator__max_depth': 7}</td>\n",
       "      <td>0.8558</td>\n",
       "      <td>0.9814</td>\n",
       "      <td>0.8134</td>\n",
       "      <td>0.5500</td>\n",
       "      <td>0.9323</td>\n",
       "      <td>0.5500</td>\n",
       "    </tr>\n",
       "    <tr>\n",
       "      <th>17</th>\n",
       "      <td>XGB</td>\n",
       "      <td>{'model__base_estimator__learning_rate': 0.01, 'model__base_estimator__max_depth': 25}</td>\n",
       "      <td>0.8555</td>\n",
       "      <td>0.9673</td>\n",
       "      <td>0.8209</td>\n",
       "      <td>0.6000</td>\n",
       "      <td>0.9023</td>\n",
       "      <td>0.5000</td>\n",
       "    </tr>\n",
       "    <tr>\n",
       "      <th>18</th>\n",
       "      <td>XGB</td>\n",
       "      <td>{'model__base_estimator__learning_rate': 0.01, 'model__base_estimator__max_depth': 20}</td>\n",
       "      <td>0.8555</td>\n",
       "      <td>0.9673</td>\n",
       "      <td>0.8209</td>\n",
       "      <td>0.6000</td>\n",
       "      <td>0.9023</td>\n",
       "      <td>0.5000</td>\n",
       "    </tr>\n",
       "    <tr>\n",
       "      <th>19</th>\n",
       "      <td>XGB</td>\n",
       "      <td>{'model__base_estimator__learning_rate': 0.4, 'model__base_estimator__max_depth': 7}</td>\n",
       "      <td>0.8549</td>\n",
       "      <td>0.9831</td>\n",
       "      <td>0.8209</td>\n",
       "      <td>0.6000</td>\n",
       "      <td>0.9323</td>\n",
       "      <td>0.5000</td>\n",
       "    </tr>\n",
       "  </tbody>\n",
       "</table>\n",
       "</div>"
      ],
      "text/plain": [
       "    MODEL_NAME  \\\n",
       "0   KNeighbors   \n",
       "1          SVC   \n",
       "2          XGB   \n",
       "3          XGB   \n",
       "4          XGB   \n",
       "5          XGB   \n",
       "6          XGB   \n",
       "7          XGB   \n",
       "8          SVC   \n",
       "9          XGB   \n",
       "10         XGB   \n",
       "11         XGB   \n",
       "12         XGB   \n",
       "13         XGB   \n",
       "14         XGB   \n",
       "15         XGB   \n",
       "16         XGB   \n",
       "17         XGB   \n",
       "18         XGB   \n",
       "19         XGB   \n",
       "\n",
       "                                                                                    PARAMS  \\\n",
       "0                                               {'model__base_estimator__n_neighbors': 30}   \n",
       "1                {'model__base_estimator__C': 0.7, 'model__base_estimator__kernel': 'rbf'}   \n",
       "2     {'model__base_estimator__learning_rate': 0.3, 'model__base_estimator__max_depth': 3}   \n",
       "3    {'model__base_estimator__learning_rate': 0.05, 'model__base_estimator__max_depth': 5}   \n",
       "4     {'model__base_estimator__learning_rate': 0.1, 'model__base_estimator__max_depth': 3}   \n",
       "5     {'model__base_estimator__learning_rate': 0.4, 'model__base_estimator__max_depth': 3}   \n",
       "6     {'model__base_estimator__learning_rate': 0.2, 'model__base_estimator__max_depth': 3}   \n",
       "7     {'model__base_estimator__learning_rate': 0.1, 'model__base_estimator__max_depth': 5}   \n",
       "8                {'model__base_estimator__C': 0.5, 'model__base_estimator__kernel': 'rbf'}   \n",
       "9    {'model__base_estimator__learning_rate': 0.05, 'model__base_estimator__max_depth': 7}   \n",
       "10    {'model__base_estimator__learning_rate': 0.2, 'model__base_estimator__max_depth': 5}   \n",
       "11    {'model__base_estimator__learning_rate': 0.5, 'model__base_estimator__max_depth': 5}   \n",
       "12    {'model__base_estimator__learning_rate': 0.3, 'model__base_estimator__max_depth': 5}   \n",
       "13  {'model__base_estimator__learning_rate': 0.01, 'model__base_estimator__max_depth': 15}   \n",
       "14  {'model__base_estimator__learning_rate': 0.01, 'model__base_estimator__max_depth': 10}   \n",
       "15  {'model__base_estimator__learning_rate': 0.01, 'model__base_estimator__max_depth': 12}   \n",
       "16    {'model__base_estimator__learning_rate': 0.1, 'model__base_estimator__max_depth': 7}   \n",
       "17  {'model__base_estimator__learning_rate': 0.01, 'model__base_estimator__max_depth': 25}   \n",
       "18  {'model__base_estimator__learning_rate': 0.01, 'model__base_estimator__max_depth': 20}   \n",
       "19    {'model__base_estimator__learning_rate': 0.4, 'model__base_estimator__max_depth': 7}   \n",
       "\n",
       "      AUC  TRAIN_AUC  ACCURACY  THRESHOLD  TRAIN_ACCURACY  TRAIN_THRESHOLD  \n",
       "0  0.8628     0.8776    0.8097     0.6500          0.7904           0.6000  \n",
       "1  0.8601     0.8600    0.8060     0.7000          0.7995           0.5500  \n",
       "2  0.8599     0.9796    0.8209     0.6000          0.9310           0.5500  \n",
       "3  0.8597     0.9702    0.8209     0.5500          0.9076           0.5500  \n",
       "4  0.8593     0.9616    0.8097     0.5500          0.8971           0.5500  \n",
       "5  0.8593     0.9809    0.8209     0.6000          0.9323           0.5500  \n",
       "6  0.8586     0.9757    0.8134     0.6000          0.9206           0.6000  \n",
       "7  0.8583     0.9783    0.8134     0.6000          0.9284           0.5500  \n",
       "8  0.8583     0.8574    0.8097     0.7000          0.7956           0.5500  \n",
       "9  0.8581     0.9779    0.8097     0.6000          0.9258           0.5000  \n",
       "10 0.8570     0.9819    0.8246     0.6000          0.9323           0.5000  \n",
       "11 0.8564     0.9828    0.8209     0.6000          0.9323           0.5000  \n",
       "12 0.8562     0.9823    0.8246     0.6000          0.9323           0.5000  \n",
       "13 0.8560     0.9675    0.8209     0.6000          0.9023           0.5000  \n",
       "14 0.8560     0.9657    0.8246     0.6000          0.8997           0.5500  \n",
       "15 0.8559     0.9672    0.8284     0.5500          0.9023           0.5000  \n",
       "16 0.8558     0.9814    0.8134     0.5500          0.9323           0.5500  \n",
       "17 0.8555     0.9673    0.8209     0.6000          0.9023           0.5000  \n",
       "18 0.8555     0.9673    0.8209     0.6000          0.9023           0.5000  \n",
       "19 0.8549     0.9831    0.8209     0.6000          0.9323           0.5000  "
      ]
     },
     "execution_count": 20,
     "metadata": {},
     "output_type": "execute_result"
    }
   ],
   "source": [
    "models_res.head(20)"
   ]
  },
  {
   "cell_type": "code",
   "execution_count": 22,
   "metadata": {
    "scrolled": false
   },
   "outputs": [
    {
     "name": "stdout",
     "output_type": "stream",
     "text": [
      "0, KNeighbors, accuracy: 0.810\n"
     ]
    },
    {
     "data": {
      "image/png": "[encoded data removed]",
      "text/plain": [
       "<Figure size 576x396 with 1 Axes>"
      ]
     },
     "metadata": {},
     "output_type": "display_data"
    },
    {
     "data": {
      "image/png": "[encoded data removed]",
      "text/plain": [
       "<Figure size 600x360 with 2 Axes>"
      ]
     },
     "metadata": {},
     "output_type": "display_data"
    },
    {
     "data": {
      "image/png": "[encoded data removed]",
      "text/plain": [
       "<Figure size 720x720 with 1 Axes>"
      ]
     },
     "metadata": {},
     "output_type": "display_data"
    },
    {
     "name": "stdout",
     "output_type": "stream",
     "text": [
      "1, SVC, accuracy: 0.806\n"
     ]
    },
    {
     "data": {
      "image/png": "[encoded data removed]",
      "text/plain": [
       "<Figure size 576x396 with 1 Axes>"
      ]
     },
     "metadata": {},
     "output_type": "display_data"
    },
    {
     "data": {
      "image/png": "[encoded data removed]",
      "text/plain": [
       "<Figure size 600x360 with 2 Axes>"
      ]
     },
     "metadata": {},
     "output_type": "display_data"
    },
    {
     "data": {
      "image/png": "[encoded data removed]",
      "text/plain": [
       "<Figure size 720x720 with 1 Axes>"
      ]
     },
     "metadata": {},
     "output_type": "display_data"
    },
    {
     "name": "stdout",
     "output_type": "stream",
     "text": [
      "2, XGB, accuracy: 0.821\n"
     ]
    },
    {
     "data": {
      "image/png": "[encoded data removed]",
      "text/plain": [
       "<Figure size 576x396 with 1 Axes>"
      ]
     },
     "metadata": {},
     "output_type": "display_data"
    },
    {
     "data": {
      "image/png": "[encoded data removed]",
      "text/plain": [
       "<Figure size 600x360 with 2 Axes>"
      ]
     },
     "metadata": {},
     "output_type": "display_data"
    },
    {
     "data": {
      "image/png": "[encoded data removed]",
      "text/plain": [
       "<Figure size 720x720 with 1 Axes>"
      ]
     },
     "metadata": {},
     "output_type": "display_data"
    }
   ],
   "source": [
    "for idx, row in models_res.iloc[:3,:].iterrows():\n",
    "    model_name = row['MODEL_NAME']\n",
    "    models_idx = models_names.index(model_name)\n",
    "    model = models[models_idx].set_params(**row['PARAMS'])\n",
    "    model.fit(X_train, y_train)\n",
    "    pred_proba = pd.DataFrame(model.predict_proba(X_test), index=X_test.index, columns = ['Prob_0','Prob_1'])\n",
    "    pred = np.where(pred_proba['Prob_1'] > row['THRESHOLD'], 1, 0)\n",
    "    accuracy = accuracy_score(y_test, pred)\n",
    "    print(f\"{idx}, {model_name}, accuracy: {accuracy:0.3f}\")\n",
    "    cm = ConfusionMatrix(model, classes=[0,1])\n",
    "    cm.fit(X_test, y_test)\n",
    "    cm.score(X_test, y_test)\n",
    "    cm.show()\n",
    "    cr = ClassificationReport(model, classes=[0, 1], cmap=\"YlGn\", size=(600, 360))\n",
    "    cr.fit(X_test, y_test)\n",
    "    cr.score(X_test, y_test)\n",
    "    cr.show()\n",
    "    plt.figure(figsize=(10,10))\n",
    "    pred_proba['Prob_1'].hist(bins=20)\n",
    "    plt.show()"
   ]
  },
  {
   "cell_type": "markdown",
   "metadata": {},
   "source": [
    "## Ensembling models"
   ]
  },
  {
   "cell_type": "code",
   "execution_count": 23,
   "metadata": {
    "collapsed": true
   },
   "outputs": [],
   "source": [
    "models_to_vote = []\n",
    "\n",
    "for idx, row in models_res.iloc[0:3,:].iterrows():\n",
    "    model_name = row['MODEL_NAME']\n",
    "    models_idx = models_names.index(model_name)\n",
    "    model = models[models_idx].set_params(**row['PARAMS'])\n",
    "    model.fit(X_train, y_train)\n",
    "    models_to_vote.append(model)\n",
    "    \n",
    "vote = EnsembleVoteClassifier(clfs=models_to_vote, voting='soft')\n",
    "grid_param = {'weights': [[1, 1, 1], [1, 1, 2], [2, 1, 1], [1, 2, 1]]}\n",
    "\n",
    "voting_models_res = []\n",
    "params = ParameterGrid(grid_param)\n",
    "for param in params:\n",
    "    vote.set_params(**param)\n",
    "    vote.fit(X_train, y_train)\n",
    "    y_probas = pd.DataFrame(vote.predict_proba(X_test), index=X_test.index, columns = ['Prob_0','Prob_1'])\n",
    "    train_y_probas = pd.DataFrame(vote.predict_proba(X_train), index=X_train.index, columns = ['Prob_0','Prob_1'])\n",
    "    auc = roc_auc_score(y_test, y_probas['Prob_1'])\n",
    "    train_auc = roc_auc_score(y_train, train_y_probas['Prob_1']) \n",
    "    pred = np.where(y_probas['Prob_1']>=threshold, 1, 0)\n",
    "    accuracy = accuracy_score(y_test, pred)\n",
    "    best_accuracy = 0\n",
    "    best_train_accuracy = 0\n",
    "    best_treshold = 0\n",
    "    best_train_threshold = 0\n",
    "    for threshold in thresholds:\n",
    "        pred = np.where(y_probas['Prob_1']>=threshold, 1, 0)\n",
    "        train_pred = np.where(train_y_probas['Prob_1']>=threshold, 1, 0)\n",
    "        accuracy = accuracy_score(y_test, pred)\n",
    "        train_accuracy = accuracy_score(y_train, train_pred)\n",
    "        if accuracy > best_accuracy:\n",
    "            best_accuracy = accuracy\n",
    "            best_threshold = threshold\n",
    "        if train_accuracy > best_train_accuracy:\n",
    "            best_train_accuracy = train_accuracy\n",
    "            best_train_threshold = threshold\n",
    "    pred = [[p] for p in pred]\n",
    "    voting_models_res.append({'MODEL_NAME': 'Voting', 'PARAMS': param, 'AUC': auc, 'TRAIN_AUC': train_auc, \n",
    "                           'ACCURACY': best_accuracy, 'THRESHOLD': best_threshold, 'TRAIN_ACCURACY': best_train_accuracy,\n",
    "                          'TRAIN_THRESHOLD': best_train_threshold})\n",
    "voting_models_res = pd.DataFrame(voting_models_res)[['MODEL_NAME','PARAMS','AUC','TRAIN_AUC','ACCURACY','THRESHOLD',\n",
    "                                      'TRAIN_ACCURACY','TRAIN_THRESHOLD']]\n",
    "models_res = pd.concat([models_res, voting_models_res]).sort_values('AUC',ascending=False).reset_index(drop=True)"
   ]
  },
  {
   "cell_type": "code",
   "execution_count": 24,
   "metadata": {},
   "outputs": [
    {
     "data": {
      "text/html": [
       "<div>\n",
       "<style scoped>\n",
       "    .dataframe tbody tr th:only-of-type {\n",
       "        vertical-align: middle;\n",
       "    }\n",
       "\n",
       "    .dataframe tbody tr th {\n",
       "        vertical-align: top;\n",
       "    }\n",
       "\n",
       "    .dataframe thead th {\n",
       "        text-align: right;\n",
       "    }\n",
       "</style>\n",
       "<table border=\"1\" class=\"dataframe\">\n",
       "  <thead>\n",
       "    <tr style=\"text-align: right;\">\n",
       "      <th></th>\n",
       "      <th>MODEL_NAME</th>\n",
       "      <th>PARAMS</th>\n",
       "      <th>AUC</th>\n",
       "      <th>TRAIN_AUC</th>\n",
       "      <th>ACCURACY</th>\n",
       "      <th>THRESHOLD</th>\n",
       "      <th>TRAIN_ACCURACY</th>\n",
       "      <th>TRAIN_THRESHOLD</th>\n",
       "    </tr>\n",
       "  </thead>\n",
       "  <tbody>\n",
       "    <tr>\n",
       "      <th>0</th>\n",
       "      <td>Voting</td>\n",
       "      <td>{'weights': [1, 2, 1]}</td>\n",
       "      <td>0.8803</td>\n",
       "      <td>0.9286</td>\n",
       "      <td>0.8433</td>\n",
       "      <td>0.6000</td>\n",
       "      <td>0.8477</td>\n",
       "      <td>0.5500</td>\n",
       "    </tr>\n",
       "    <tr>\n",
       "      <th>1</th>\n",
       "      <td>Voting</td>\n",
       "      <td>{'weights': [2, 1, 1]}</td>\n",
       "      <td>0.8792</td>\n",
       "      <td>0.9288</td>\n",
       "      <td>0.8358</td>\n",
       "      <td>0.5500</td>\n",
       "      <td>0.8490</td>\n",
       "      <td>0.5500</td>\n",
       "    </tr>\n",
       "    <tr>\n",
       "      <th>2</th>\n",
       "      <td>Voting</td>\n",
       "      <td>{'weights': [1, 1, 1]}</td>\n",
       "      <td>0.8787</td>\n",
       "      <td>0.9397</td>\n",
       "      <td>0.8433</td>\n",
       "      <td>0.6000</td>\n",
       "      <td>0.8646</td>\n",
       "      <td>0.6000</td>\n",
       "    </tr>\n",
       "    <tr>\n",
       "      <th>3</th>\n",
       "      <td>Voting</td>\n",
       "      <td>{'weights': [1, 1, 2]}</td>\n",
       "      <td>0.8781</td>\n",
       "      <td>0.9580</td>\n",
       "      <td>0.8396</td>\n",
       "      <td>0.6000</td>\n",
       "      <td>0.8815</td>\n",
       "      <td>0.5000</td>\n",
       "    </tr>\n",
       "    <tr>\n",
       "      <th>4</th>\n",
       "      <td>KNeighbors</td>\n",
       "      <td>{'model__base_estimator__n_neighbors': 30}</td>\n",
       "      <td>0.8628</td>\n",
       "      <td>0.8776</td>\n",
       "      <td>0.8097</td>\n",
       "      <td>0.6500</td>\n",
       "      <td>0.7904</td>\n",
       "      <td>0.6000</td>\n",
       "    </tr>\n",
       "    <tr>\n",
       "      <th>5</th>\n",
       "      <td>SVC</td>\n",
       "      <td>{'model__base_estimator__C': 0.7, 'model__base_estimator__kernel': 'rbf'}</td>\n",
       "      <td>0.8601</td>\n",
       "      <td>0.8600</td>\n",
       "      <td>0.8060</td>\n",
       "      <td>0.7000</td>\n",
       "      <td>0.7995</td>\n",
       "      <td>0.5500</td>\n",
       "    </tr>\n",
       "    <tr>\n",
       "      <th>6</th>\n",
       "      <td>XGB</td>\n",
       "      <td>{'model__base_estimator__learning_rate': 0.3, 'model__base_estimator__max_depth': 3}</td>\n",
       "      <td>0.8599</td>\n",
       "      <td>0.9796</td>\n",
       "      <td>0.8209</td>\n",
       "      <td>0.6000</td>\n",
       "      <td>0.9310</td>\n",
       "      <td>0.5500</td>\n",
       "    </tr>\n",
       "    <tr>\n",
       "      <th>7</th>\n",
       "      <td>XGB</td>\n",
       "      <td>{'model__base_estimator__learning_rate': 0.05, 'model__base_estimator__max_depth': 5}</td>\n",
       "      <td>0.8597</td>\n",
       "      <td>0.9702</td>\n",
       "      <td>0.8209</td>\n",
       "      <td>0.5500</td>\n",
       "      <td>0.9076</td>\n",
       "      <td>0.5500</td>\n",
       "    </tr>\n",
       "    <tr>\n",
       "      <th>8</th>\n",
       "      <td>XGB</td>\n",
       "      <td>{'model__base_estimator__learning_rate': 0.1, 'model__base_estimator__max_depth': 3}</td>\n",
       "      <td>0.8593</td>\n",
       "      <td>0.9616</td>\n",
       "      <td>0.8097</td>\n",
       "      <td>0.5500</td>\n",
       "      <td>0.8971</td>\n",
       "      <td>0.5500</td>\n",
       "    </tr>\n",
       "    <tr>\n",
       "      <th>9</th>\n",
       "      <td>XGB</td>\n",
       "      <td>{'model__base_estimator__learning_rate': 0.4, 'model__base_estimator__max_depth': 3}</td>\n",
       "      <td>0.8593</td>\n",
       "      <td>0.9809</td>\n",
       "      <td>0.8209</td>\n",
       "      <td>0.6000</td>\n",
       "      <td>0.9323</td>\n",
       "      <td>0.5500</td>\n",
       "    </tr>\n",
       "    <tr>\n",
       "      <th>10</th>\n",
       "      <td>XGB</td>\n",
       "      <td>{'model__base_estimator__learning_rate': 0.2, 'model__base_estimator__max_depth': 3}</td>\n",
       "      <td>0.8586</td>\n",
       "      <td>0.9757</td>\n",
       "      <td>0.8134</td>\n",
       "      <td>0.6000</td>\n",
       "      <td>0.9206</td>\n",
       "      <td>0.6000</td>\n",
       "    </tr>\n",
       "    <tr>\n",
       "      <th>11</th>\n",
       "      <td>XGB</td>\n",
       "      <td>{'model__base_estimator__learning_rate': 0.1, 'model__base_estimator__max_depth': 5}</td>\n",
       "      <td>0.8583</td>\n",
       "      <td>0.9783</td>\n",
       "      <td>0.8134</td>\n",
       "      <td>0.6000</td>\n",
       "      <td>0.9284</td>\n",
       "      <td>0.5500</td>\n",
       "    </tr>\n",
       "    <tr>\n",
       "      <th>12</th>\n",
       "      <td>SVC</td>\n",
       "      <td>{'model__base_estimator__C': 0.5, 'model__base_estimator__kernel': 'rbf'}</td>\n",
       "      <td>0.8583</td>\n",
       "      <td>0.8574</td>\n",
       "      <td>0.8097</td>\n",
       "      <td>0.7000</td>\n",
       "      <td>0.7956</td>\n",
       "      <td>0.5500</td>\n",
       "    </tr>\n",
       "    <tr>\n",
       "      <th>13</th>\n",
       "      <td>XGB</td>\n",
       "      <td>{'model__base_estimator__learning_rate': 0.05, 'model__base_estimator__max_depth': 7}</td>\n",
       "      <td>0.8581</td>\n",
       "      <td>0.9779</td>\n",
       "      <td>0.8097</td>\n",
       "      <td>0.6000</td>\n",
       "      <td>0.9258</td>\n",
       "      <td>0.5000</td>\n",
       "    </tr>\n",
       "    <tr>\n",
       "      <th>14</th>\n",
       "      <td>XGB</td>\n",
       "      <td>{'model__base_estimator__learning_rate': 0.2, 'model__base_estimator__max_depth': 5}</td>\n",
       "      <td>0.8570</td>\n",
       "      <td>0.9819</td>\n",
       "      <td>0.8246</td>\n",
       "      <td>0.6000</td>\n",
       "      <td>0.9323</td>\n",
       "      <td>0.5000</td>\n",
       "    </tr>\n",
       "    <tr>\n",
       "      <th>15</th>\n",
       "      <td>XGB</td>\n",
       "      <td>{'model__base_estimator__learning_rate': 0.5, 'model__base_estimator__max_depth': 5}</td>\n",
       "      <td>0.8564</td>\n",
       "      <td>0.9828</td>\n",
       "      <td>0.8209</td>\n",
       "      <td>0.6000</td>\n",
       "      <td>0.9323</td>\n",
       "      <td>0.5000</td>\n",
       "    </tr>\n",
       "    <tr>\n",
       "      <th>16</th>\n",
       "      <td>XGB</td>\n",
       "      <td>{'model__base_estimator__learning_rate': 0.3, 'model__base_estimator__max_depth': 5}</td>\n",
       "      <td>0.8562</td>\n",
       "      <td>0.9823</td>\n",
       "      <td>0.8246</td>\n",
       "      <td>0.6000</td>\n",
       "      <td>0.9323</td>\n",
       "      <td>0.5000</td>\n",
       "    </tr>\n",
       "    <tr>\n",
       "      <th>17</th>\n",
       "      <td>XGB</td>\n",
       "      <td>{'model__base_estimator__learning_rate': 0.01, 'model__base_estimator__max_depth': 15}</td>\n",
       "      <td>0.8560</td>\n",
       "      <td>0.9675</td>\n",
       "      <td>0.8209</td>\n",
       "      <td>0.6000</td>\n",
       "      <td>0.9023</td>\n",
       "      <td>0.5000</td>\n",
       "    </tr>\n",
       "    <tr>\n",
       "      <th>18</th>\n",
       "      <td>XGB</td>\n",
       "      <td>{'model__base_estimator__learning_rate': 0.01, 'model__base_estimator__max_depth': 10}</td>\n",
       "      <td>0.8560</td>\n",
       "      <td>0.9657</td>\n",
       "      <td>0.8246</td>\n",
       "      <td>0.6000</td>\n",
       "      <td>0.8997</td>\n",
       "      <td>0.5500</td>\n",
       "    </tr>\n",
       "    <tr>\n",
       "      <th>19</th>\n",
       "      <td>XGB</td>\n",
       "      <td>{'model__base_estimator__learning_rate': 0.01, 'model__base_estimator__max_depth': 12}</td>\n",
       "      <td>0.8559</td>\n",
       "      <td>0.9672</td>\n",
       "      <td>0.8284</td>\n",
       "      <td>0.5500</td>\n",
       "      <td>0.9023</td>\n",
       "      <td>0.5000</td>\n",
       "    </tr>\n",
       "    <tr>\n",
       "      <th>20</th>\n",
       "      <td>XGB</td>\n",
       "      <td>{'model__base_estimator__learning_rate': 0.1, 'model__base_estimator__max_depth': 7}</td>\n",
       "      <td>0.8558</td>\n",
       "      <td>0.9814</td>\n",
       "      <td>0.8134</td>\n",
       "      <td>0.5500</td>\n",
       "      <td>0.9323</td>\n",
       "      <td>0.5500</td>\n",
       "    </tr>\n",
       "    <tr>\n",
       "      <th>21</th>\n",
       "      <td>XGB</td>\n",
       "      <td>{'model__base_estimator__learning_rate': 0.01, 'model__base_estimator__max_depth': 25}</td>\n",
       "      <td>0.8555</td>\n",
       "      <td>0.9673</td>\n",
       "      <td>0.8209</td>\n",
       "      <td>0.6000</td>\n",
       "      <td>0.9023</td>\n",
       "      <td>0.5000</td>\n",
       "    </tr>\n",
       "    <tr>\n",
       "      <th>22</th>\n",
       "      <td>XGB</td>\n",
       "      <td>{'model__base_estimator__learning_rate': 0.01, 'model__base_estimator__max_depth': 20}</td>\n",
       "      <td>0.8555</td>\n",
       "      <td>0.9673</td>\n",
       "      <td>0.8209</td>\n",
       "      <td>0.6000</td>\n",
       "      <td>0.9023</td>\n",
       "      <td>0.5000</td>\n",
       "    </tr>\n",
       "    <tr>\n",
       "      <th>23</th>\n",
       "      <td>XGB</td>\n",
       "      <td>{'model__base_estimator__learning_rate': 0.4, 'model__base_estimator__max_depth': 7}</td>\n",
       "      <td>0.8549</td>\n",
       "      <td>0.9831</td>\n",
       "      <td>0.8209</td>\n",
       "      <td>0.6000</td>\n",
       "      <td>0.9323</td>\n",
       "      <td>0.5000</td>\n",
       "    </tr>\n",
       "    <tr>\n",
       "      <th>24</th>\n",
       "      <td>KNeighbors</td>\n",
       "      <td>{'model__base_estimator__n_neighbors': 20}</td>\n",
       "      <td>0.8548</td>\n",
       "      <td>0.8856</td>\n",
       "      <td>0.8284</td>\n",
       "      <td>0.7000</td>\n",
       "      <td>0.7943</td>\n",
       "      <td>0.5500</td>\n",
       "    </tr>\n",
       "    <tr>\n",
       "      <th>25</th>\n",
       "      <td>XGB</td>\n",
       "      <td>{'model__base_estimator__learning_rate': 0.05, 'model__base_estimator__max_depth': 10}</td>\n",
       "      <td>0.8543</td>\n",
       "      <td>0.9807</td>\n",
       "      <td>0.8209</td>\n",
       "      <td>0.6000</td>\n",
       "      <td>0.9323</td>\n",
       "      <td>0.5500</td>\n",
       "    </tr>\n",
       "    <tr>\n",
       "      <th>26</th>\n",
       "      <td>XGB</td>\n",
       "      <td>{'model__base_estimator__learning_rate': 0.1, 'model__base_estimator__max_depth': 15}</td>\n",
       "      <td>0.8540</td>\n",
       "      <td>0.9825</td>\n",
       "      <td>0.8246</td>\n",
       "      <td>0.6000</td>\n",
       "      <td>0.9323</td>\n",
       "      <td>0.5000</td>\n",
       "    </tr>\n",
       "    <tr>\n",
       "      <th>27</th>\n",
       "      <td>XGB</td>\n",
       "      <td>{'model__base_estimator__learning_rate': 0.05, 'model__base_estimator__max_depth': 3}</td>\n",
       "      <td>0.8540</td>\n",
       "      <td>0.9395</td>\n",
       "      <td>0.8172</td>\n",
       "      <td>0.5500</td>\n",
       "      <td>0.8659</td>\n",
       "      <td>0.5500</td>\n",
       "    </tr>\n",
       "    <tr>\n",
       "      <th>28</th>\n",
       "      <td>XGB</td>\n",
       "      <td>{'model__base_estimator__learning_rate': 0.01, 'model__base_estimator__max_depth': 7}</td>\n",
       "      <td>0.8538</td>\n",
       "      <td>0.9577</td>\n",
       "      <td>0.8209</td>\n",
       "      <td>0.5500</td>\n",
       "      <td>0.8919</td>\n",
       "      <td>0.5500</td>\n",
       "    </tr>\n",
       "    <tr>\n",
       "      <th>29</th>\n",
       "      <td>XGB</td>\n",
       "      <td>{'model__base_estimator__learning_rate': 0.1, 'model__base_estimator__max_depth': 20}</td>\n",
       "      <td>0.8536</td>\n",
       "      <td>0.9825</td>\n",
       "      <td>0.8209</td>\n",
       "      <td>0.6000</td>\n",
       "      <td>0.9323</td>\n",
       "      <td>0.5000</td>\n",
       "    </tr>\n",
       "  </tbody>\n",
       "</table>\n",
       "</div>"
      ],
      "text/plain": [
       "    MODEL_NAME  \\\n",
       "0       Voting   \n",
       "1       Voting   \n",
       "2       Voting   \n",
       "3       Voting   \n",
       "4   KNeighbors   \n",
       "5          SVC   \n",
       "6          XGB   \n",
       "7          XGB   \n",
       "8          XGB   \n",
       "9          XGB   \n",
       "10         XGB   \n",
       "11         XGB   \n",
       "12         SVC   \n",
       "13         XGB   \n",
       "14         XGB   \n",
       "15         XGB   \n",
       "16         XGB   \n",
       "17         XGB   \n",
       "18         XGB   \n",
       "19         XGB   \n",
       "20         XGB   \n",
       "21         XGB   \n",
       "22         XGB   \n",
       "23         XGB   \n",
       "24  KNeighbors   \n",
       "25         XGB   \n",
       "26         XGB   \n",
       "27         XGB   \n",
       "28         XGB   \n",
       "29         XGB   \n",
       "\n",
       "                                                                                    PARAMS  \\\n",
       "0                                                                   {'weights': [1, 2, 1]}   \n",
       "1                                                                   {'weights': [2, 1, 1]}   \n",
       "2                                                                   {'weights': [1, 1, 1]}   \n",
       "3                                                                   {'weights': [1, 1, 2]}   \n",
       "4                                               {'model__base_estimator__n_neighbors': 30}   \n",
       "5                {'model__base_estimator__C': 0.7, 'model__base_estimator__kernel': 'rbf'}   \n",
       "6     {'model__base_estimator__learning_rate': 0.3, 'model__base_estimator__max_depth': 3}   \n",
       "7    {'model__base_estimator__learning_rate': 0.05, 'model__base_estimator__max_depth': 5}   \n",
       "8     {'model__base_estimator__learning_rate': 0.1, 'model__base_estimator__max_depth': 3}   \n",
       "9     {'model__base_estimator__learning_rate': 0.4, 'model__base_estimator__max_depth': 3}   \n",
       "10    {'model__base_estimator__learning_rate': 0.2, 'model__base_estimator__max_depth': 3}   \n",
       "11    {'model__base_estimator__learning_rate': 0.1, 'model__base_estimator__max_depth': 5}   \n",
       "12               {'model__base_estimator__C': 0.5, 'model__base_estimator__kernel': 'rbf'}   \n",
       "13   {'model__base_estimator__learning_rate': 0.05, 'model__base_estimator__max_depth': 7}   \n",
       "14    {'model__base_estimator__learning_rate': 0.2, 'model__base_estimator__max_depth': 5}   \n",
       "15    {'model__base_estimator__learning_rate': 0.5, 'model__base_estimator__max_depth': 5}   \n",
       "16    {'model__base_estimator__learning_rate': 0.3, 'model__base_estimator__max_depth': 5}   \n",
       "17  {'model__base_estimator__learning_rate': 0.01, 'model__base_estimator__max_depth': 15}   \n",
       "18  {'model__base_estimator__learning_rate': 0.01, 'model__base_estimator__max_depth': 10}   \n",
       "19  {'model__base_estimator__learning_rate': 0.01, 'model__base_estimator__max_depth': 12}   \n",
       "20    {'model__base_estimator__learning_rate': 0.1, 'model__base_estimator__max_depth': 7}   \n",
       "21  {'model__base_estimator__learning_rate': 0.01, 'model__base_estimator__max_depth': 25}   \n",
       "22  {'model__base_estimator__learning_rate': 0.01, 'model__base_estimator__max_depth': 20}   \n",
       "23    {'model__base_estimator__learning_rate': 0.4, 'model__base_estimator__max_depth': 7}   \n",
       "24                                              {'model__base_estimator__n_neighbors': 20}   \n",
       "25  {'model__base_estimator__learning_rate': 0.05, 'model__base_estimator__max_depth': 10}   \n",
       "26   {'model__base_estimator__learning_rate': 0.1, 'model__base_estimator__max_depth': 15}   \n",
       "27   {'model__base_estimator__learning_rate': 0.05, 'model__base_estimator__max_depth': 3}   \n",
       "28   {'model__base_estimator__learning_rate': 0.01, 'model__base_estimator__max_depth': 7}   \n",
       "29   {'model__base_estimator__learning_rate': 0.1, 'model__base_estimator__max_depth': 20}   \n",
       "\n",
       "      AUC  TRAIN_AUC  ACCURACY  THRESHOLD  TRAIN_ACCURACY  TRAIN_THRESHOLD  \n",
       "0  0.8803     0.9286    0.8433     0.6000          0.8477           0.5500  \n",
       "1  0.8792     0.9288    0.8358     0.5500          0.8490           0.5500  \n",
       "2  0.8787     0.9397    0.8433     0.6000          0.8646           0.6000  \n",
       "3  0.8781     0.9580    0.8396     0.6000          0.8815           0.5000  \n",
       "4  0.8628     0.8776    0.8097     0.6500          0.7904           0.6000  \n",
       "5  0.8601     0.8600    0.8060     0.7000          0.7995           0.5500  \n",
       "6  0.8599     0.9796    0.8209     0.6000          0.9310           0.5500  \n",
       "7  0.8597     0.9702    0.8209     0.5500          0.9076           0.5500  \n",
       "8  0.8593     0.9616    0.8097     0.5500          0.8971           0.5500  \n",
       "9  0.8593     0.9809    0.8209     0.6000          0.9323           0.5500  \n",
       "10 0.8586     0.9757    0.8134     0.6000          0.9206           0.6000  \n",
       "11 0.8583     0.9783    0.8134     0.6000          0.9284           0.5500  \n",
       "12 0.8583     0.8574    0.8097     0.7000          0.7956           0.5500  \n",
       "13 0.8581     0.9779    0.8097     0.6000          0.9258           0.5000  \n",
       "14 0.8570     0.9819    0.8246     0.6000          0.9323           0.5000  \n",
       "15 0.8564     0.9828    0.8209     0.6000          0.9323           0.5000  \n",
       "16 0.8562     0.9823    0.8246     0.6000          0.9323           0.5000  \n",
       "17 0.8560     0.9675    0.8209     0.6000          0.9023           0.5000  \n",
       "18 0.8560     0.9657    0.8246     0.6000          0.8997           0.5500  \n",
       "19 0.8559     0.9672    0.8284     0.5500          0.9023           0.5000  \n",
       "20 0.8558     0.9814    0.8134     0.5500          0.9323           0.5500  \n",
       "21 0.8555     0.9673    0.8209     0.6000          0.9023           0.5000  \n",
       "22 0.8555     0.9673    0.8209     0.6000          0.9023           0.5000  \n",
       "23 0.8549     0.9831    0.8209     0.6000          0.9323           0.5000  \n",
       "24 0.8548     0.8856    0.8284     0.7000          0.7943           0.5500  \n",
       "25 0.8543     0.9807    0.8209     0.6000          0.9323           0.5500  \n",
       "26 0.8540     0.9825    0.8246     0.6000          0.9323           0.5000  \n",
       "27 0.8540     0.9395    0.8172     0.5500          0.8659           0.5500  \n",
       "28 0.8538     0.9577    0.8209     0.5500          0.8919           0.5500  \n",
       "29 0.8536     0.9825    0.8209     0.6000          0.9323           0.5000  "
      ]
     },
     "execution_count": 24,
     "metadata": {},
     "output_type": "execute_result"
    }
   ],
   "source": [
    "models_res.head(30)"
   ]
  },
  {
   "cell_type": "code",
   "execution_count": 29,
   "metadata": {},
   "outputs": [
    {
     "name": "stdout",
     "output_type": "stream",
     "text": [
      "'Voting', accuracy: 0.843\n"
     ]
    },
    {
     "data": {
      "image/png": "[encoded data removed]",
      "text/plain": [
       "<Figure size 576x396 with 1 Axes>"
      ]
     },
     "metadata": {},
     "output_type": "display_data"
    },
    {
     "data": {
      "image/png": "[encoded data removed]",
      "text/plain": [
       "<Figure size 600x360 with 2 Axes>"
      ]
     },
     "metadata": {},
     "output_type": "display_data"
    },
    {
     "data": {
      "image/png": "[encoded data removed]",
      "text/plain": [
       "<Figure size 720x720 with 1 Axes>"
      ]
     },
     "metadata": {},
     "output_type": "display_data"
    }
   ],
   "source": [
    "vote.set_params(**models_res['PARAMS'].loc[0])\n",
    "\n",
    "vote.fit(X_train, y_train)\n",
    "\n",
    "pred_proba = pd.DataFrame(vote.predict_proba(X_test), index=X_test.index, columns = ['Prob_0','Prob_1'])\n",
    "pred = np.where(pred_proba['Prob_1']>=models_res['THRESHOLD'].loc[0], 1, 0)\n",
    "accuracy = accuracy_score(y_test, pred)\n",
    "print(f\"'Voting', accuracy: {accuracy:0.3f}\")\n",
    "cm = ConfusionMatrix(model, classes=[0,1])\n",
    "cm.fit(X_test, y_test)\n",
    "cm.score(X_test, y_test)\n",
    "cm.show()\n",
    "cr = ClassificationReport(vote, classes=[0, 1], cmap=\"YlGn\", size=(600, 360))\n",
    "cr.fit(X_test, y_test)\n",
    "cr.score(X_test, y_test)\n",
    "cr.show()\n",
    "plt.figure(figsize=(10,10))\n",
    "pred_proba['Prob_1'].hist(bins=20)\n",
    "plt.show()"
   ]
  },
  {
   "cell_type": "code",
   "execution_count": 30,
   "metadata": {
    "collapsed": true
   },
   "outputs": [],
   "source": [
    "test = pd.read_csv(os.path.join(project_path, r'data\\test_lb.csv')).set_index('PassengerId')"
   ]
  },
  {
   "cell_type": "code",
   "execution_count": 32,
   "metadata": {
    "collapsed": true
   },
   "outputs": [],
   "source": [
    "proba_lb = pd.DataFrame(vote.predict_proba(test), index=test.index, columns = ['Prob_0','Prob_1'])\n",
    "pred_lb = np.where(proba_lb['Prob_1']>=models_res['THRESHOLD'].loc[0], 1, 0)\n",
    "pred_lb = pd.DataFrame(pred_lb, columns = ['Survived'], index=test.index).reset_index()\n",
    "pred_lb.to_csv(os.path.join(project_path, r'data\\submission.csv'),index=False)"
   ]
  }
 ],
 "metadata": {
  "kernelspec": {
   "display_name": "Python 3",
   "language": "python",
   "name": "python3"
  },
  "language_info": {
   "codemirror_mode": {
    "name": "ipython",
    "version": 3
   },
   "file_extension": ".py",
   "mimetype": "text/x-python",
   "name": "python",
   "nbconvert_exporter": "python",
   "pygments_lexer": "ipython3",
   "version": "3.9.0"
  }
 },
 "nbformat": 4,
 "nbformat_minor": 2
}

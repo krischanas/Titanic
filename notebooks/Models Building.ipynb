{
 "cells": [
  {
   "cell_type": "code",
   "execution_count": 1,
   "metadata": {
    "collapsed": true
   },
   "outputs": [],
   "source": [
    "import matplotlib.pyplot as plt\n",
    "%matplotlib inline\n",
    "import numpy as np\n",
    "import os\n",
    "import pandas as pd\n",
    "import seaborn as sns\n",
    "\n",
    "#from IPython.core.interactiveshell import InteractiveShell\n",
    "#InteractiveShell.ast_node_interactivity = \"all\"\n",
    "\n",
    "pd.pandas.set_option('display.max_columns', None)\n",
    "pd.options.display.float_format = '{:,.4f}'.format\n",
    "pd.set_option('display.max_colwidth', 120)\n",
    "import pickle\n",
    "import warnings\n",
    "warnings.simplefilter(action='ignore')\n",
    "\n",
    "from sklearn.ensemble import RandomForestClassifier\n",
    "from sklearn.neighbors import KNeighborsClassifier\n",
    "from sklearn.metrics import accuracy_score, balanced_accuracy_score, classification_report, confusion_matrix, roc_auc_score\n",
    "from sklearn.model_selection import GridSearchCV, KFold, ParameterGrid\n",
    "from sklearn.pipeline import Pipeline, make_pipeline\n",
    "from xgboost.sklearn import XGBClassifier\n",
    "from mlxtend.classifier import EnsembleVoteClassifier, StackingClassifier\n",
    "from sklearn.base import BaseEstimator, TransformerMixin\n",
    "from sklearn.decomposition import PCA\n",
    "from imblearn.over_sampling import SMOTE\n",
    "from sklearn.linear_model import LogisticRegression\n",
    "from sklearn.svm import SVC\n",
    "from sklearn.calibration import CalibratedClassifierCV"
   ]
  },
  {
   "cell_type": "code",
   "execution_count": 2,
   "metadata": {
    "collapsed": true
   },
   "outputs": [],
   "source": [
    "project_path = r'C:\\Users\\kchanas\\Documents\\Learning\\Kaggle\\Titanic'\n",
    "X_train = pd.read_csv(os.path.join(project_path, r'data\\X_train.csv'), index_col=0)\n",
    "y_train = pd.read_csv(os.path.join(project_path, r'data\\y_train.csv'), index_col=0, names=['Survived'], header=0)\n",
    "X_test = pd.read_csv(os.path.join(project_path, r'data\\X_test.csv'), index_col=0)\n",
    "y_test = pd.read_csv(os.path.join(project_path, r'data\\y_test.csv'), index_col=0, names=['Survived'], header=0)"
   ]
  },
  {
   "cell_type": "code",
   "execution_count": 3,
   "metadata": {
    "collapsed": true
   },
   "outputs": [],
   "source": [
    "with open(os.path.join(project_path, r'data\\svc_selected_features.txt'), \"rb\") as f:\n",
    "      svc_selected_features = pickle.load(f)\n",
    "\n",
    "with open(os.path.join(project_path, r'data\\lr_selected_features.txt'), \"rb\") as f:\n",
    "      lr_selected_features = pickle.load(f)\n",
    "\n",
    "with open(os.path.join(project_path, r'data\\kn_selected_features.txt'), \"rb\") as f:\n",
    "      kn_selected_features = pickle.load(f)\n",
    "        \n",
    "with open(os.path.join(project_path, r'data\\rf_selected_features.txt'), \"rb\") as f:\n",
    "      rf_selected_features = pickle.load(f)\n",
    "        \n",
    "with open(os.path.join(project_path, r'data\\xgb_selected_features.txt'), \"rb\") as f:\n",
    "      xgb_selected_features = pickle.load(f)\n",
    "        "
   ]
  },
  {
   "cell_type": "code",
   "execution_count": 4,
   "metadata": {
    "collapsed": true
   },
   "outputs": [],
   "source": [
    "svc_selected_features_idx = [X_train.columns.get_loc(c) for c in svc_selected_features if c in X_train]\n",
    "lr_selected_features_idx = [X_train.columns.get_loc(c) for c in lr_selected_features if c in X_train]\n",
    "kn_selected_features_idx = [X_train.columns.get_loc(c) for c in kn_selected_features if c in X_train]\n",
    "rf_selected_features_idx = [X_train.columns.get_loc(c) for c in rf_selected_features if c in X_train]\n",
    "xgb_selected_features_idx = [X_train.columns.get_loc(c) for c in xgb_selected_features if c in X_train]\n"
   ]
  },
  {
   "cell_type": "code",
   "execution_count": 5,
   "metadata": {},
   "outputs": [
    {
     "data": {
      "text/plain": [
       "array([0.36164895, 0.57700526, 0.72945299, 0.85550045, 0.91732154,\n",
       "       0.96909732, 0.98718585, 0.9938323 , 0.99864527, 1.        ])"
      ]
     },
     "execution_count": 5,
     "metadata": {},
     "output_type": "execute_result"
    }
   ],
   "source": [
    "pca = PCA()\n",
    "pca.fit(X_train.iloc[:,svc_selected_features_idx])\n",
    "pca.explained_variance_ratio_.cumsum()"
   ]
  },
  {
   "cell_type": "code",
   "execution_count": 6,
   "metadata": {},
   "outputs": [
    {
     "data": {
      "text/plain": [
       "array([0.37102192, 0.58646635, 0.71147399, 0.82377509, 0.91844232,\n",
       "       0.96341191, 0.99120551, 1.        ])"
      ]
     },
     "execution_count": 6,
     "metadata": {},
     "output_type": "execute_result"
    }
   ],
   "source": [
    "pca = PCA()\n",
    "pca.fit(X_train.iloc[:,lr_selected_features_idx])\n",
    "pca.explained_variance_ratio_.cumsum()"
   ]
  },
  {
   "cell_type": "code",
   "execution_count": 7,
   "metadata": {},
   "outputs": [
    {
     "data": {
      "text/plain": [
       "array([0.36962884, 0.57660714, 0.72689218, 0.86785442, 0.98683184,\n",
       "       1.        ])"
      ]
     },
     "execution_count": 7,
     "metadata": {},
     "output_type": "execute_result"
    }
   ],
   "source": [
    "pca = PCA()\n",
    "pca.fit(X_train.iloc[:,kn_selected_features_idx])\n",
    "pca.explained_variance_ratio_.cumsum()"
   ]
  },
  {
   "cell_type": "code",
   "execution_count": 8,
   "metadata": {},
   "outputs": [
    {
     "data": {
      "text/plain": [
       "array([0.36820617, 0.59889205, 0.77097319, 0.91327935, 0.97732968,\n",
       "       0.99714414, 1.        ])"
      ]
     },
     "execution_count": 8,
     "metadata": {},
     "output_type": "execute_result"
    }
   ],
   "source": [
    "pca = PCA()\n",
    "pca.fit(X_train.iloc[:,rf_selected_features_idx])\n",
    "pca.explained_variance_ratio_.cumsum()"
   ]
  },
  {
   "cell_type": "code",
   "execution_count": 9,
   "metadata": {},
   "outputs": [
    {
     "data": {
      "text/plain": [
       "array([0.40498849, 0.59145011, 0.72372238, 0.83038476, 0.89577926,\n",
       "       0.94552267, 0.98314443, 0.9979021 , 1.        ])"
      ]
     },
     "execution_count": 9,
     "metadata": {},
     "output_type": "execute_result"
    }
   ],
   "source": [
    "pca = PCA()\n",
    "pca.fit(X_train.iloc[:,xgb_selected_features_idx])\n",
    "pca.explained_variance_ratio_.cumsum()"
   ]
  },
  {
   "cell_type": "code",
   "execution_count": 10,
   "metadata": {
    "collapsed": true
   },
   "outputs": [],
   "source": [
    "class ItemsSelector(BaseEstimator, TransformerMixin):\n",
    "    def __init__(self, keys: list):\n",
    "        self.keys = keys\n",
    "\n",
    "    def fit(self, x, y=None):\n",
    "        return self\n",
    "\n",
    "    def transform(self, dataframe):\n",
    "        return np.array(dataframe)[:,self.keys]"
   ]
  },
  {
   "cell_type": "markdown",
   "metadata": {},
   "source": [
    "## Training models"
   ]
  },
  {
   "cell_type": "code",
   "execution_count": 11,
   "metadata": {
    "collapsed": true
   },
   "outputs": [],
   "source": [
    "cv = KFold(n_splits=5, random_state=1)"
   ]
  },
  {
   "cell_type": "code",
   "execution_count": 12,
   "metadata": {
    "collapsed": true
   },
   "outputs": [],
   "source": [
    "pipe_svc = Pipeline([('select_items', ItemsSelector(keys=svc_selected_features_idx)),\n",
    "                    ('pca', PCA()),\n",
    "                   ('model', CalibratedClassifierCV(SVC(random_state=1, probability=True),cv=cv))\n",
    "])\n",
    "\n",
    "\n",
    "pipe_lr = Pipeline([('select_items', ItemsSelector(keys=kn_selected_features_idx)),\n",
    "                    ('pca', PCA()),\n",
    "                   ('model', CalibratedClassifierCV(LogisticRegression(random_state=1, max_iter=200),cv=cv))\n",
    "])\n",
    "\n",
    "pipe_kn = Pipeline([('select_items', ItemsSelector(keys=kn_selected_features_idx)),\n",
    "                   ('pca', PCA()),\n",
    "                   ('model', CalibratedClassifierCV(KNeighborsClassifier(),cv=cv))\n",
    "])\n",
    "\n",
    "pipe_rf = Pipeline([('select_items', ItemsSelector(keys=rf_selected_features_idx)),\n",
    "                    ('pca', PCA()),\n",
    "                       ('model', CalibratedClassifierCV(RandomForestClassifier(n_estimators=200, \n",
    "                                                                               oob_score=True, random_state=1),cv=cv))\n",
    "])\n",
    "\n",
    "pipe_xgb = Pipeline([('select_items', ItemsSelector(keys=xgb_selected_features_idx)),\n",
    "                     ('pca', PCA()),\n",
    "                       ('model', CalibratedClassifierCV(XGBClassifier(random_state=1, n_estimators=200),cv=cv))\n",
    "])"
   ]
  },
  {
   "cell_type": "code",
   "execution_count": 13,
   "metadata": {
    "collapsed": true
   },
   "outputs": [],
   "source": [
    "grid_params_svc = {'pca__n_components': [0.6, 0.7, 0.8],\n",
    "                   'model__base_estimator__C': [0.001, 0.01, 0.02, 0.05, 0.1, 0.3, 0.5, 0.7],\n",
    "                   'model__base_estimator__kernel': ['linear','poly','rbf','sigmoid']}\n",
    "\n",
    "grid_params_lr = {'pca__n_components': [0.6, 0.7, 0.8],\n",
    "                  'model__base_estimator__C': [0.001, 0.01, 0.02, 0.05, 0.1, 0.3, 0.5, 0.7]\n",
    "                 }\n",
    "\n",
    "grid_params_kn = {'pca__n_components': [0.6, 0.7, 0.8],\n",
    "                  'model__base_estimator__n_neighbors': [2, 5, 10, 15, 20, 30]\n",
    "                 }\n",
    "\n",
    "grid_params_rf = {'pca__n_components': [0.6, 0.7, 0.8],\n",
    "                  'model__base_estimator__max_depth':[3, 5, 6, 7, 10, 12, 15, 20, 30] \n",
    "                 }\n",
    "\n",
    "grid_params_xgb = {'pca__n_components': [0.6, 0.7, 0.8],\n",
    "                   'model__base_estimator__learning_rate':[0.001, 0.01, 0.05, 0.1, 0.2, 0.3, 0.4, 0.5],\n",
    "                   'model__base_estimator__max_depth':[3, 5, 7, 10, 12, 15, 20, 25] \n",
    "                 }"
   ]
  },
  {
   "cell_type": "code",
   "execution_count": 14,
   "metadata": {
    "collapsed": true
   },
   "outputs": [],
   "source": [
    "models_names = ['SVC','LogisticRegression','KNeighbors', 'RandomForest', 'XGB']\n",
    "models = [pipe_svc, pipe_lr, pipe_kn, pipe_rf, pipe_xgb]\n",
    "grid_params = [grid_params_svc, grid_params_lr, grid_params_kn, grid_params_rf, grid_params_xgb]"
   ]
  },
  {
   "cell_type": "code",
   "execution_count": 15,
   "metadata": {
    "collapsed": true
   },
   "outputs": [],
   "source": [
    "thresholds = [n/20 for n in range(1,20)]"
   ]
  },
  {
   "cell_type": "code",
   "execution_count": 16,
   "metadata": {},
   "outputs": [
    {
     "data": {
      "text/plain": [
       "(621, 28)"
      ]
     },
     "execution_count": 16,
     "metadata": {},
     "output_type": "execute_result"
    }
   ],
   "source": [
    "X_train.shape"
   ]
  },
  {
   "cell_type": "code",
   "execution_count": 17,
   "metadata": {
    "collapsed": true
   },
   "outputs": [],
   "source": [
    "sm = SMOTE(sampling_strategy='auto', random_state=1)\n",
    "X_train_cols = X_train.columns\n",
    "X_train, y_train = sm.fit_sample(X_train, y_train)\n",
    "X_train = pd.DataFrame(X_train, columns = X_train_cols)\n",
    "y_train = pd.Series(y_train['Survived'])"
   ]
  },
  {
   "cell_type": "code",
   "execution_count": 18,
   "metadata": {},
   "outputs": [
    {
     "data": {
      "text/plain": [
       "(768, 28)"
      ]
     },
     "execution_count": 18,
     "metadata": {},
     "output_type": "execute_result"
    }
   ],
   "source": [
    "X_train.shape"
   ]
  },
  {
   "cell_type": "code",
   "execution_count": 19,
   "metadata": {
    "collapsed": true,
    "scrolled": true
   },
   "outputs": [],
   "source": [
    "models_res = []\n",
    "for model_name, model, grid_param in zip(models_names, models, grid_params):\n",
    "    params = ParameterGrid(grid_param)\n",
    "    for param in params:\n",
    "        model.set_params(**param)\n",
    "        model.fit(X_train, y_train)\n",
    "        y_probas = pd.DataFrame(model.predict_proba(X_test), index=X_test.index, columns = ['Prob_0','Prob_1'])\n",
    "        train_y_probas = pd.DataFrame(model.predict_proba(X_train), index=X_train.index, columns = ['Prob_0','Prob_1'])\n",
    "        auc = roc_auc_score(y_test, y_probas['Prob_1'])\n",
    "        train_auc = roc_auc_score(y_train, train_y_probas['Prob_1']) \n",
    "        best_accuracy = 0\n",
    "        best_train_accuracy = 0\n",
    "        best_threshold = 0\n",
    "        best_train_threshold = 0\n",
    "        for threshold in thresholds:\n",
    "            pred = np.where(y_probas['Prob_1']>=threshold, 1, 0)\n",
    "            train_pred = np.where(train_y_probas['Prob_1']>=threshold, 1, 0)\n",
    "            accuracy = accuracy_score(y_test, pred)\n",
    "            train_accuracy = accuracy_score(y_train, train_pred)\n",
    "            if accuracy > best_accuracy:\n",
    "                best_accuracy = accuracy\n",
    "                best_threshold = threshold\n",
    "            if train_accuracy > best_train_accuracy:\n",
    "                best_train_accuracy = train_accuracy\n",
    "                best_train_threshold = threshold\n",
    "        models_res.append({'MODEL_NAME': model_name, 'PARAMS': param, 'AUC': auc, 'TRAIN_AUC': train_auc, \n",
    "                           'ACCURACY': best_accuracy, 'THRESHOLD': best_threshold, 'TRAIN_ACCURACY': best_train_accuracy,\n",
    "                          'TRAIN_THRESHOLD': best_train_threshold})\n",
    "models_res = pd.DataFrame(models_res)[['MODEL_NAME','PARAMS','AUC','TRAIN_AUC','ACCURACY','THRESHOLD',\n",
    "                                      'TRAIN_ACCURACY','TRAIN_THRESHOLD']].sort_values('AUC',ascending=False).reset_index(drop=True)\n"
   ]
  },
  {
   "cell_type": "code",
   "execution_count": 20,
   "metadata": {
    "scrolled": false
   },
   "outputs": [
    {
     "data": {
      "text/html": [
       "<div>\n",
       "<style scoped>\n",
       "    .dataframe tbody tr th:only-of-type {\n",
       "        vertical-align: middle;\n",
       "    }\n",
       "\n",
       "    .dataframe tbody tr th {\n",
       "        vertical-align: top;\n",
       "    }\n",
       "\n",
       "    .dataframe thead th {\n",
       "        text-align: right;\n",
       "    }\n",
       "</style>\n",
       "<table border=\"1\" class=\"dataframe\">\n",
       "  <thead>\n",
       "    <tr style=\"text-align: right;\">\n",
       "      <th></th>\n",
       "      <th>MODEL_NAME</th>\n",
       "      <th>PARAMS</th>\n",
       "      <th>AUC</th>\n",
       "      <th>TRAIN_AUC</th>\n",
       "      <th>ACCURACY</th>\n",
       "      <th>THRESHOLD</th>\n",
       "      <th>TRAIN_ACCURACY</th>\n",
       "      <th>TRAIN_THRESHOLD</th>\n",
       "    </tr>\n",
       "  </thead>\n",
       "  <tbody>\n",
       "    <tr>\n",
       "      <th>0</th>\n",
       "      <td>RandomForest</td>\n",
       "      <td>{'model__base_estimator__max_depth': 20, 'pca__n_components': 0.6}</td>\n",
       "      <td>0.8690</td>\n",
       "      <td>0.9724</td>\n",
       "      <td>0.8321</td>\n",
       "      <td>0.7000</td>\n",
       "      <td>0.9180</td>\n",
       "      <td>0.5500</td>\n",
       "    </tr>\n",
       "    <tr>\n",
       "      <th>1</th>\n",
       "      <td>RandomForest</td>\n",
       "      <td>{'model__base_estimator__max_depth': 15, 'pca__n_components': 0.6}</td>\n",
       "      <td>0.8690</td>\n",
       "      <td>0.9722</td>\n",
       "      <td>0.8321</td>\n",
       "      <td>0.7000</td>\n",
       "      <td>0.9180</td>\n",
       "      <td>0.5500</td>\n",
       "    </tr>\n",
       "    <tr>\n",
       "      <th>2</th>\n",
       "      <td>RandomForest</td>\n",
       "      <td>{'model__base_estimator__max_depth': 30, 'pca__n_components': 0.6}</td>\n",
       "      <td>0.8687</td>\n",
       "      <td>0.9725</td>\n",
       "      <td>0.8321</td>\n",
       "      <td>0.7000</td>\n",
       "      <td>0.9180</td>\n",
       "      <td>0.5500</td>\n",
       "    </tr>\n",
       "    <tr>\n",
       "      <th>3</th>\n",
       "      <td>RandomForest</td>\n",
       "      <td>{'model__base_estimator__max_depth': 12, 'pca__n_components': 0.6}</td>\n",
       "      <td>0.8673</td>\n",
       "      <td>0.9711</td>\n",
       "      <td>0.8321</td>\n",
       "      <td>0.7000</td>\n",
       "      <td>0.9180</td>\n",
       "      <td>0.5500</td>\n",
       "    </tr>\n",
       "    <tr>\n",
       "      <th>4</th>\n",
       "      <td>RandomForest</td>\n",
       "      <td>{'model__base_estimator__max_depth': 10, 'pca__n_components': 0.6}</td>\n",
       "      <td>0.8667</td>\n",
       "      <td>0.9680</td>\n",
       "      <td>0.8284</td>\n",
       "      <td>0.6000</td>\n",
       "      <td>0.9102</td>\n",
       "      <td>0.5500</td>\n",
       "    </tr>\n",
       "    <tr>\n",
       "      <th>5</th>\n",
       "      <td>RandomForest</td>\n",
       "      <td>{'model__base_estimator__max_depth': 6, 'pca__n_components': 0.6}</td>\n",
       "      <td>0.8615</td>\n",
       "      <td>0.9400</td>\n",
       "      <td>0.8172</td>\n",
       "      <td>0.7000</td>\n",
       "      <td>0.8672</td>\n",
       "      <td>0.6000</td>\n",
       "    </tr>\n",
       "    <tr>\n",
       "      <th>6</th>\n",
       "      <td>RandomForest</td>\n",
       "      <td>{'model__base_estimator__max_depth': 10, 'pca__n_components': 0.8}</td>\n",
       "      <td>0.8614</td>\n",
       "      <td>0.9715</td>\n",
       "      <td>0.8246</td>\n",
       "      <td>0.6000</td>\n",
       "      <td>0.9180</td>\n",
       "      <td>0.5500</td>\n",
       "    </tr>\n",
       "    <tr>\n",
       "      <th>7</th>\n",
       "      <td>RandomForest</td>\n",
       "      <td>{'model__base_estimator__max_depth': 7, 'pca__n_components': 0.6}</td>\n",
       "      <td>0.8610</td>\n",
       "      <td>0.9514</td>\n",
       "      <td>0.8209</td>\n",
       "      <td>0.7000</td>\n",
       "      <td>0.8841</td>\n",
       "      <td>0.5500</td>\n",
       "    </tr>\n",
       "    <tr>\n",
       "      <th>8</th>\n",
       "      <td>RandomForest</td>\n",
       "      <td>{'model__base_estimator__max_depth': 10, 'pca__n_components': 0.7}</td>\n",
       "      <td>0.8610</td>\n",
       "      <td>0.9705</td>\n",
       "      <td>0.8321</td>\n",
       "      <td>0.6000</td>\n",
       "      <td>0.9154</td>\n",
       "      <td>0.5500</td>\n",
       "    </tr>\n",
       "    <tr>\n",
       "      <th>9</th>\n",
       "      <td>RandomForest</td>\n",
       "      <td>{'model__base_estimator__max_depth': 12, 'pca__n_components': 0.7}</td>\n",
       "      <td>0.8606</td>\n",
       "      <td>0.9728</td>\n",
       "      <td>0.8321</td>\n",
       "      <td>0.6500</td>\n",
       "      <td>0.9193</td>\n",
       "      <td>0.5500</td>\n",
       "    </tr>\n",
       "    <tr>\n",
       "      <th>10</th>\n",
       "      <td>RandomForest</td>\n",
       "      <td>{'model__base_estimator__max_depth': 7, 'pca__n_components': 0.7}</td>\n",
       "      <td>0.8601</td>\n",
       "      <td>0.9554</td>\n",
       "      <td>0.8284</td>\n",
       "      <td>0.5500</td>\n",
       "      <td>0.8906</td>\n",
       "      <td>0.6000</td>\n",
       "    </tr>\n",
       "    <tr>\n",
       "      <th>11</th>\n",
       "      <td>RandomForest</td>\n",
       "      <td>{'model__base_estimator__max_depth': 15, 'pca__n_components': 0.7}</td>\n",
       "      <td>0.8600</td>\n",
       "      <td>0.9735</td>\n",
       "      <td>0.8321</td>\n",
       "      <td>0.6000</td>\n",
       "      <td>0.9193</td>\n",
       "      <td>0.5500</td>\n",
       "    </tr>\n",
       "    <tr>\n",
       "      <th>12</th>\n",
       "      <td>SVC</td>\n",
       "      <td>{'model__base_estimator__C': 0.1, 'model__base_estimator__kernel': 'poly', 'pca__n_components': 0.8}</td>\n",
       "      <td>0.8596</td>\n",
       "      <td>0.8167</td>\n",
       "      <td>0.8022</td>\n",
       "      <td>0.5500</td>\n",
       "      <td>0.7852</td>\n",
       "      <td>0.5000</td>\n",
       "    </tr>\n",
       "    <tr>\n",
       "      <th>13</th>\n",
       "      <td>RandomForest</td>\n",
       "      <td>{'model__base_estimator__max_depth': 20, 'pca__n_components': 0.7}</td>\n",
       "      <td>0.8594</td>\n",
       "      <td>0.9737</td>\n",
       "      <td>0.8321</td>\n",
       "      <td>0.6000</td>\n",
       "      <td>0.9193</td>\n",
       "      <td>0.5500</td>\n",
       "    </tr>\n",
       "    <tr>\n",
       "      <th>14</th>\n",
       "      <td>RandomForest</td>\n",
       "      <td>{'model__base_estimator__max_depth': 30, 'pca__n_components': 0.7}</td>\n",
       "      <td>0.8594</td>\n",
       "      <td>0.9737</td>\n",
       "      <td>0.8321</td>\n",
       "      <td>0.6000</td>\n",
       "      <td>0.9193</td>\n",
       "      <td>0.5500</td>\n",
       "    </tr>\n",
       "    <tr>\n",
       "      <th>15</th>\n",
       "      <td>RandomForest</td>\n",
       "      <td>{'model__base_estimator__max_depth': 12, 'pca__n_components': 0.8}</td>\n",
       "      <td>0.8589</td>\n",
       "      <td>0.9732</td>\n",
       "      <td>0.8284</td>\n",
       "      <td>0.6500</td>\n",
       "      <td>0.9193</td>\n",
       "      <td>0.5500</td>\n",
       "    </tr>\n",
       "    <tr>\n",
       "      <th>16</th>\n",
       "      <td>RandomForest</td>\n",
       "      <td>{'model__base_estimator__max_depth': 5, 'pca__n_components': 0.6}</td>\n",
       "      <td>0.8584</td>\n",
       "      <td>0.9246</td>\n",
       "      <td>0.8097</td>\n",
       "      <td>0.5500</td>\n",
       "      <td>0.8464</td>\n",
       "      <td>0.6000</td>\n",
       "    </tr>\n",
       "    <tr>\n",
       "      <th>17</th>\n",
       "      <td>RandomForest</td>\n",
       "      <td>{'model__base_estimator__max_depth': 15, 'pca__n_components': 0.8}</td>\n",
       "      <td>0.8578</td>\n",
       "      <td>0.9735</td>\n",
       "      <td>0.8284</td>\n",
       "      <td>0.6500</td>\n",
       "      <td>0.9193</td>\n",
       "      <td>0.5500</td>\n",
       "    </tr>\n",
       "    <tr>\n",
       "      <th>18</th>\n",
       "      <td>RandomForest</td>\n",
       "      <td>{'model__base_estimator__max_depth': 30, 'pca__n_components': 0.8}</td>\n",
       "      <td>0.8577</td>\n",
       "      <td>0.9736</td>\n",
       "      <td>0.8284</td>\n",
       "      <td>0.6500</td>\n",
       "      <td>0.9193</td>\n",
       "      <td>0.5500</td>\n",
       "    </tr>\n",
       "    <tr>\n",
       "      <th>19</th>\n",
       "      <td>RandomForest</td>\n",
       "      <td>{'model__base_estimator__max_depth': 20, 'pca__n_components': 0.8}</td>\n",
       "      <td>0.8577</td>\n",
       "      <td>0.9736</td>\n",
       "      <td>0.8284</td>\n",
       "      <td>0.6500</td>\n",
       "      <td>0.9193</td>\n",
       "      <td>0.5500</td>\n",
       "    </tr>\n",
       "  </tbody>\n",
       "</table>\n",
       "</div>"
      ],
      "text/plain": [
       "      MODEL_NAME  \\\n",
       "0   RandomForest   \n",
       "1   RandomForest   \n",
       "2   RandomForest   \n",
       "3   RandomForest   \n",
       "4   RandomForest   \n",
       "5   RandomForest   \n",
       "6   RandomForest   \n",
       "7   RandomForest   \n",
       "8   RandomForest   \n",
       "9   RandomForest   \n",
       "10  RandomForest   \n",
       "11  RandomForest   \n",
       "12           SVC   \n",
       "13  RandomForest   \n",
       "14  RandomForest   \n",
       "15  RandomForest   \n",
       "16  RandomForest   \n",
       "17  RandomForest   \n",
       "18  RandomForest   \n",
       "19  RandomForest   \n",
       "\n",
       "                                                                                                  PARAMS  \\\n",
       "0                                     {'model__base_estimator__max_depth': 20, 'pca__n_components': 0.6}   \n",
       "1                                     {'model__base_estimator__max_depth': 15, 'pca__n_components': 0.6}   \n",
       "2                                     {'model__base_estimator__max_depth': 30, 'pca__n_components': 0.6}   \n",
       "3                                     {'model__base_estimator__max_depth': 12, 'pca__n_components': 0.6}   \n",
       "4                                     {'model__base_estimator__max_depth': 10, 'pca__n_components': 0.6}   \n",
       "5                                      {'model__base_estimator__max_depth': 6, 'pca__n_components': 0.6}   \n",
       "6                                     {'model__base_estimator__max_depth': 10, 'pca__n_components': 0.8}   \n",
       "7                                      {'model__base_estimator__max_depth': 7, 'pca__n_components': 0.6}   \n",
       "8                                     {'model__base_estimator__max_depth': 10, 'pca__n_components': 0.7}   \n",
       "9                                     {'model__base_estimator__max_depth': 12, 'pca__n_components': 0.7}   \n",
       "10                                     {'model__base_estimator__max_depth': 7, 'pca__n_components': 0.7}   \n",
       "11                                    {'model__base_estimator__max_depth': 15, 'pca__n_components': 0.7}   \n",
       "12  {'model__base_estimator__C': 0.1, 'model__base_estimator__kernel': 'poly', 'pca__n_components': 0.8}   \n",
       "13                                    {'model__base_estimator__max_depth': 20, 'pca__n_components': 0.7}   \n",
       "14                                    {'model__base_estimator__max_depth': 30, 'pca__n_components': 0.7}   \n",
       "15                                    {'model__base_estimator__max_depth': 12, 'pca__n_components': 0.8}   \n",
       "16                                     {'model__base_estimator__max_depth': 5, 'pca__n_components': 0.6}   \n",
       "17                                    {'model__base_estimator__max_depth': 15, 'pca__n_components': 0.8}   \n",
       "18                                    {'model__base_estimator__max_depth': 30, 'pca__n_components': 0.8}   \n",
       "19                                    {'model__base_estimator__max_depth': 20, 'pca__n_components': 0.8}   \n",
       "\n",
       "      AUC  TRAIN_AUC  ACCURACY  THRESHOLD  TRAIN_ACCURACY  TRAIN_THRESHOLD  \n",
       "0  0.8690     0.9724    0.8321     0.7000          0.9180           0.5500  \n",
       "1  0.8690     0.9722    0.8321     0.7000          0.9180           0.5500  \n",
       "2  0.8687     0.9725    0.8321     0.7000          0.9180           0.5500  \n",
       "3  0.8673     0.9711    0.8321     0.7000          0.9180           0.5500  \n",
       "4  0.8667     0.9680    0.8284     0.6000          0.9102           0.5500  \n",
       "5  0.8615     0.9400    0.8172     0.7000          0.8672           0.6000  \n",
       "6  0.8614     0.9715    0.8246     0.6000          0.9180           0.5500  \n",
       "7  0.8610     0.9514    0.8209     0.7000          0.8841           0.5500  \n",
       "8  0.8610     0.9705    0.8321     0.6000          0.9154           0.5500  \n",
       "9  0.8606     0.9728    0.8321     0.6500          0.9193           0.5500  \n",
       "10 0.8601     0.9554    0.8284     0.5500          0.8906           0.6000  \n",
       "11 0.8600     0.9735    0.8321     0.6000          0.9193           0.5500  \n",
       "12 0.8596     0.8167    0.8022     0.5500          0.7852           0.5000  \n",
       "13 0.8594     0.9737    0.8321     0.6000          0.9193           0.5500  \n",
       "14 0.8594     0.9737    0.8321     0.6000          0.9193           0.5500  \n",
       "15 0.8589     0.9732    0.8284     0.6500          0.9193           0.5500  \n",
       "16 0.8584     0.9246    0.8097     0.5500          0.8464           0.6000  \n",
       "17 0.8578     0.9735    0.8284     0.6500          0.9193           0.5500  \n",
       "18 0.8577     0.9736    0.8284     0.6500          0.9193           0.5500  \n",
       "19 0.8577     0.9736    0.8284     0.6500          0.9193           0.5500  "
      ]
     },
     "execution_count": 20,
     "metadata": {},
     "output_type": "execute_result"
    }
   ],
   "source": [
    "models_res.head(20)"
   ]
  },
  {
   "cell_type": "code",
   "execution_count": 21,
   "metadata": {
    "collapsed": true
   },
   "outputs": [],
   "source": [
    "def plot_heatmap(cf_matrix):\n",
    "    group_names = ['True Neg','False Pos','False Neg','True Pos']\n",
    "    group_counts = ['{0:0.0f}'.format(value) for value in\n",
    "                    cf_matrix.flatten()]\n",
    "    group_percentages = ['{0:.2%}'.format(value) for value in\n",
    "                         cf_matrix.flatten()/np.sum(cf_matrix)]\n",
    "    labels = [f'{v1}\\n{v2}\\n{v3}' for v1, v2, v3 in\n",
    "              zip(group_names,group_counts,group_percentages)]\n",
    "    labels = np.asarray(labels).reshape(2,2)\n",
    "    sns.heatmap(cf_matrix, annot=labels, fmt='', cmap='Blues')\n",
    "    plt.show()"
   ]
  },
  {
   "cell_type": "code",
   "execution_count": 22,
   "metadata": {
    "scrolled": false
   },
   "outputs": [
    {
     "name": "stdout",
     "output_type": "stream",
     "text": [
      "0, RandomForest, accuracy: 0.832\n"
     ]
    },
    {
     "data": {
      "image/png": "[encoded data removed]",
      "text/plain": [
       "<Figure size 432x288 with 2 Axes>"
      ]
     },
     "metadata": {
      "needs_background": "light"
     },
     "output_type": "display_data"
    },
    {
     "data": {
      "text/plain": [
       "<Figure size 432x432 with 0 Axes>"
      ]
     },
     "metadata": {},
     "output_type": "display_data"
    },
    {
     "data": {
      "image/png": "[encoded data removed]",
      "text/plain": [
       "<Figure size 411.875x360 with 1 Axes>"
      ]
     },
     "metadata": {
      "needs_background": "light"
     },
     "output_type": "display_data"
    },
    {
     "name": "stdout",
     "output_type": "stream",
     "text": [
      "2, RandomForest, accuracy: 0.832\n"
     ]
    },
    {
     "data": {
      "image/png": "[encoded data removed]",
      "text/plain": [
       "<Figure size 432x288 with 2 Axes>"
      ]
     },
     "metadata": {
      "needs_background": "light"
     },
     "output_type": "display_data"
    },
    {
     "data": {
      "text/plain": [
       "<Figure size 432x432 with 0 Axes>"
      ]
     },
     "metadata": {},
     "output_type": "display_data"
    },
    {
     "data": {
      "image/png": "[encoded data removed]",
      "text/plain": [
       "<Figure size 411.875x360 with 1 Axes>"
      ]
     },
     "metadata": {
      "needs_background": "light"
     },
     "output_type": "display_data"
    },
    {
     "name": "stdout",
     "output_type": "stream",
     "text": [
      "3, RandomForest, accuracy: 0.832\n"
     ]
    },
    {
     "data": {
      "image/png": "[encoded data removed]",
      "text/plain": [
       "<Figure size 432x288 with 2 Axes>"
      ]
     },
     "metadata": {
      "needs_background": "light"
     },
     "output_type": "display_data"
    },
    {
     "data": {
      "text/plain": [
       "<Figure size 432x432 with 0 Axes>"
      ]
     },
     "metadata": {},
     "output_type": "display_data"
    },
    {
     "data": {
      "image/png": "[encoded data removed]",
      "text/plain": [
       "<Figure size 411.875x360 with 1 Axes>"
      ]
     },
     "metadata": {
      "needs_background": "light"
     },
     "output_type": "display_data"
    }
   ],
   "source": [
    "for idx, row in models_res.iloc[[0,2,3],:].iterrows():\n",
    "    model_name = row['MODEL_NAME']\n",
    "    models_idx = models_names.index(model_name)\n",
    "    model = models[models_idx].set_params(**row['PARAMS'])\n",
    "    model.fit(X_train, y_train)\n",
    "    pred_proba = pd.DataFrame(model.predict_proba(X_test), index=X_test.index, columns = ['Prob_0','Prob_1'])\n",
    "    pred = np.where(pred_proba['Prob_1'] > row['THRESHOLD'], 1, 0)\n",
    "    accuracy = accuracy_score(y_test, pred)\n",
    "    print(f\"{idx}, {model_name}, accuracy: {accuracy:0.3f}\")\n",
    "    cf_matrix = confusion_matrix(y_test, pred)\n",
    "    plot_heatmap(cf_matrix)\n",
    "    plt.figure(figsize=(6,6))\n",
    "    res = pd.concat([pred_proba['Prob_1'], y_test], axis=1)\n",
    "    sns.displot(data=res, x='Prob_1', hue='Survived', kind='kde')\n",
    "    plt.axvline(x=row['THRESHOLD'], color='r')\n",
    "    plt.show()"
   ]
  },
  {
   "cell_type": "markdown",
   "metadata": {},
   "source": [
    "## Ensembling models"
   ]
  },
  {
   "cell_type": "code",
   "execution_count": 23,
   "metadata": {
    "collapsed": true
   },
   "outputs": [],
   "source": [
    "models_to_vote = []\n",
    "\n",
    "for idx, row in models_res.iloc[0:3,:].iterrows():\n",
    "    model_name = row['MODEL_NAME']\n",
    "    models_idx = models_names.index(model_name)\n",
    "    model = models[models_idx].set_params(**row['PARAMS'])\n",
    "    model.fit(X_train, y_train)\n",
    "    models_to_vote.append(model)\n",
    "    \n",
    "vote = EnsembleVoteClassifier(clfs=models_to_vote, voting='soft')\n",
    "grid_param = {'weights': [[1, 1, 1], [1, 1, 2], [2, 1, 1], [1, 2, 1]]}\n",
    "\n",
    "voting_models_res = []\n",
    "params = ParameterGrid(grid_param)\n",
    "for param in params:\n",
    "    vote.set_params(**param)\n",
    "    vote.fit(X_train, y_train)\n",
    "    y_probas = pd.DataFrame(vote.predict_proba(X_test), index=X_test.index, columns = ['Prob_0','Prob_1'])\n",
    "    train_y_probas = pd.DataFrame(vote.predict_proba(X_train), index=X_train.index, columns = ['Prob_0','Prob_1'])\n",
    "    auc = roc_auc_score(y_test, y_probas['Prob_1'])\n",
    "    train_auc = roc_auc_score(y_train, train_y_probas['Prob_1']) \n",
    "    pred = np.where(y_probas['Prob_1']>=threshold, 1, 0)\n",
    "    accuracy = accuracy_score(y_test, pred)\n",
    "    best_accuracy = 0\n",
    "    best_train_accuracy = 0\n",
    "    best_treshold = 0\n",
    "    best_train_threshold = 0\n",
    "    for threshold in thresholds:\n",
    "        pred = np.where(y_probas['Prob_1']>=threshold, 1, 0)\n",
    "        train_pred = np.where(train_y_probas['Prob_1']>=threshold, 1, 0)\n",
    "        accuracy = accuracy_score(y_test, pred)\n",
    "        train_accuracy = accuracy_score(y_train, train_pred)\n",
    "        if accuracy > best_accuracy:\n",
    "            best_accuracy = accuracy\n",
    "            best_threshold = threshold\n",
    "        if train_accuracy > best_train_accuracy:\n",
    "            best_train_accuracy = train_accuracy\n",
    "            best_train_threshold = threshold\n",
    "    pred = [[p] for p in pred]\n",
    "    voting_models_res.append({'MODEL_NAME': 'Voting', 'PARAMS': param, 'AUC': auc, 'TRAIN_AUC': train_auc, \n",
    "                           'ACCURACY': best_accuracy, 'THRESHOLD': best_threshold, 'TRAIN_ACCURACY': best_train_accuracy,\n",
    "                          'TRAIN_THRESHOLD': best_train_threshold})\n",
    "voting_models_res = pd.DataFrame(voting_models_res)[['MODEL_NAME','PARAMS','AUC','TRAIN_AUC','ACCURACY','THRESHOLD',\n",
    "                                      'TRAIN_ACCURACY','TRAIN_THRESHOLD']].sort_values('AUC',ascending=False).reset_index(drop=True)\n"
   ]
  },
  {
   "cell_type": "code",
   "execution_count": 24,
   "metadata": {},
   "outputs": [
    {
     "data": {
      "text/html": [
       "<div>\n",
       "<style scoped>\n",
       "    .dataframe tbody tr th:only-of-type {\n",
       "        vertical-align: middle;\n",
       "    }\n",
       "\n",
       "    .dataframe tbody tr th {\n",
       "        vertical-align: top;\n",
       "    }\n",
       "\n",
       "    .dataframe thead th {\n",
       "        text-align: right;\n",
       "    }\n",
       "</style>\n",
       "<table border=\"1\" class=\"dataframe\">\n",
       "  <thead>\n",
       "    <tr style=\"text-align: right;\">\n",
       "      <th></th>\n",
       "      <th>MODEL_NAME</th>\n",
       "      <th>PARAMS</th>\n",
       "      <th>AUC</th>\n",
       "      <th>TRAIN_AUC</th>\n",
       "      <th>ACCURACY</th>\n",
       "      <th>THRESHOLD</th>\n",
       "      <th>TRAIN_ACCURACY</th>\n",
       "      <th>TRAIN_THRESHOLD</th>\n",
       "    </tr>\n",
       "  </thead>\n",
       "  <tbody>\n",
       "    <tr>\n",
       "      <th>0</th>\n",
       "      <td>Voting</td>\n",
       "      <td>{'weights': [1, 1, 1]}</td>\n",
       "      <td>0.8687</td>\n",
       "      <td>0.9725</td>\n",
       "      <td>0.8321</td>\n",
       "      <td>0.7000</td>\n",
       "      <td>0.9180</td>\n",
       "      <td>0.5500</td>\n",
       "    </tr>\n",
       "    <tr>\n",
       "      <th>1</th>\n",
       "      <td>Voting</td>\n",
       "      <td>{'weights': [1, 1, 2]}</td>\n",
       "      <td>0.8687</td>\n",
       "      <td>0.9725</td>\n",
       "      <td>0.8321</td>\n",
       "      <td>0.7000</td>\n",
       "      <td>0.9180</td>\n",
       "      <td>0.5500</td>\n",
       "    </tr>\n",
       "    <tr>\n",
       "      <th>2</th>\n",
       "      <td>Voting</td>\n",
       "      <td>{'weights': [2, 1, 1]}</td>\n",
       "      <td>0.8687</td>\n",
       "      <td>0.9725</td>\n",
       "      <td>0.8321</td>\n",
       "      <td>0.7000</td>\n",
       "      <td>0.9180</td>\n",
       "      <td>0.5500</td>\n",
       "    </tr>\n",
       "    <tr>\n",
       "      <th>3</th>\n",
       "      <td>Voting</td>\n",
       "      <td>{'weights': [1, 2, 1]}</td>\n",
       "      <td>0.8687</td>\n",
       "      <td>0.9725</td>\n",
       "      <td>0.8321</td>\n",
       "      <td>0.7000</td>\n",
       "      <td>0.9180</td>\n",
       "      <td>0.5500</td>\n",
       "    </tr>\n",
       "  </tbody>\n",
       "</table>\n",
       "</div>"
      ],
      "text/plain": [
       "  MODEL_NAME                  PARAMS    AUC  TRAIN_AUC  ACCURACY  THRESHOLD  \\\n",
       "0     Voting  {'weights': [1, 1, 1]} 0.8687     0.9725    0.8321     0.7000   \n",
       "1     Voting  {'weights': [1, 1, 2]} 0.8687     0.9725    0.8321     0.7000   \n",
       "2     Voting  {'weights': [2, 1, 1]} 0.8687     0.9725    0.8321     0.7000   \n",
       "3     Voting  {'weights': [1, 2, 1]} 0.8687     0.9725    0.8321     0.7000   \n",
       "\n",
       "   TRAIN_ACCURACY  TRAIN_THRESHOLD  \n",
       "0          0.9180           0.5500  \n",
       "1          0.9180           0.5500  \n",
       "2          0.9180           0.5500  \n",
       "3          0.9180           0.5500  "
      ]
     },
     "execution_count": 24,
     "metadata": {},
     "output_type": "execute_result"
    }
   ],
   "source": [
    "voting_models_res"
   ]
  },
  {
   "cell_type": "code",
   "execution_count": 25,
   "metadata": {
    "scrolled": false
   },
   "outputs": [
    {
     "name": "stdout",
     "output_type": "stream",
     "text": [
      "0.7\n",
      "'Voting', accuracy: 0.832\n"
     ]
    },
    {
     "data": {
      "image/png": "[encoded data removed]",
      "text/plain": [
       "<Figure size 432x288 with 2 Axes>"
      ]
     },
     "metadata": {
      "needs_background": "light"
     },
     "output_type": "display_data"
    },
    {
     "data": {
      "text/plain": [
       "<Figure size 432x432 with 0 Axes>"
      ]
     },
     "metadata": {},
     "output_type": "display_data"
    },
    {
     "data": {
      "image/png": "[encoded data removed]",
      "text/plain": [
       "<Figure size 411.875x360 with 1 Axes>"
      ]
     },
     "metadata": {
      "needs_background": "light"
     },
     "output_type": "display_data"
    }
   ],
   "source": [
    "vote.set_params(**voting_models_res['PARAMS'].loc[0])\n",
    "vote.fit(X_train, y_train)\n",
    "\n",
    "pred_proba = pd.DataFrame(vote.predict_proba(X_test), index=X_test.index, columns = ['Prob_0','Prob_1'])\n",
    "print(models_res['THRESHOLD'].loc[0])\n",
    "pred = pd.Series(np.where(pred_proba['Prob_1']>=models_res['THRESHOLD'].loc[0], 1, 0), name='Prediction', index=y_test.index)\n",
    "accuracy = accuracy_score(y_test, pred)\n",
    "print(f\"'Voting', accuracy: {accuracy:0.3f}\")\n",
    "cf_matrix = confusion_matrix(y_test, pred)\n",
    "plot_heatmap(cf_matrix)\n",
    "plt.figure(figsize=(6,6))\n",
    "res = pd.concat([pred_proba['Prob_1'], y_test], axis=1)\n",
    "sns.displot(data=res, x='Prob_1', hue='Survived', kind='kde')\n",
    "plt.axvline(x=row['THRESHOLD'], color='r')\n",
    "plt.show()"
   ]
  },
  {
   "cell_type": "markdown",
   "metadata": {},
   "source": [
    "## Stacking Models"
   ]
  },
  {
   "cell_type": "code",
   "execution_count": 26,
   "metadata": {
    "collapsed": true
   },
   "outputs": [],
   "source": [
    "StackingClassifier??"
   ]
  },
  {
   "cell_type": "code",
   "execution_count": 27,
   "metadata": {
    "collapsed": true
   },
   "outputs": [],
   "source": [
    "models_to_stack = []\n",
    "\n",
    "for idx, row in models_res.iloc[[0,5,9],:].iterrows():\n",
    "    model_name = row['MODEL_NAME']\n",
    "    models_idx = models_names.index(model_name)\n",
    "    model = models[models_idx].set_params(**row['PARAMS'])\n",
    "    model.fit(X_train, y_train)\n",
    "    models_to_stack.append(model)\n",
    "    \n",
    "stack = StackingClassifier(classifiers=models_to_stack, meta_classifier=LogisticRegression(), fit_base_estimators=False, use_probas=True,\n",
    "                          average_probas=False, use_features_in_secondary=True, drop_proba_col='first')\n",
    "grid_param = {'meta_classifier__C': [0.001, 0.01, 0.02, 0.05, 0.1, 0.3, 0.5, 0.7]}\n",
    "\n",
    "stacking_models_res = []\n",
    "params = ParameterGrid(grid_param)\n",
    "for param in params:\n",
    "    stack.set_params(**param)\n",
    "    stack.fit(X_train, y_train)\n",
    "    y_probas = pd.DataFrame(stack.predict_proba(X_test), index=X_test.index, columns = ['Prob_0','Prob_1'])\n",
    "    train_y_probas = pd.DataFrame(stack.predict_proba(X_train), index=X_train.index, columns = ['Prob_0','Prob_1'])\n",
    "    auc = roc_auc_score(y_test, y_probas['Prob_1'])\n",
    "    train_auc = roc_auc_score(y_train, train_y_probas['Prob_1']) \n",
    "    pred = np.where(y_probas['Prob_1']>=threshold, 1, 0)\n",
    "    accuracy = accuracy_score(y_test, pred)\n",
    "    best_accuracy = 0\n",
    "    best_train_accuracy = 0\n",
    "    best_treshold = 0\n",
    "    best_train_threshold = 0\n",
    "    for threshold in thresholds:\n",
    "        pred = np.where(y_probas['Prob_1']>=threshold, 1, 0)\n",
    "        train_pred = np.where(train_y_probas['Prob_1']>=threshold, 1, 0)\n",
    "        accuracy = accuracy_score(y_test, pred)\n",
    "        train_accuracy = accuracy_score(y_train, train_pred)\n",
    "        if accuracy > best_accuracy:\n",
    "            best_accuracy = accuracy\n",
    "            best_threshold = threshold\n",
    "        if train_accuracy > best_train_accuracy:\n",
    "            best_train_accuracy = train_accuracy\n",
    "            best_train_threshold = threshold\n",
    "    pred = [[p] for p in pred]\n",
    "    stacking_models_res.append({'MODEL_NAME': 'stacking', 'PARAMS': param, 'AUC': auc, 'TRAIN_AUC': train_auc, \n",
    "                           'ACCURACY': best_accuracy, 'THRESHOLD': best_threshold, 'TRAIN_ACCURACY': best_train_accuracy,\n",
    "                          'TRAIN_THRESHOLD': best_train_threshold})\n",
    "stacking_models_res = pd.DataFrame(stacking_models_res)[['MODEL_NAME','PARAMS','AUC','TRAIN_AUC','ACCURACY','THRESHOLD',\n",
    "                                      'TRAIN_ACCURACY','TRAIN_THRESHOLD']].sort_values('AUC',ascending=False).reset_index(drop=True)"
   ]
  },
  {
   "cell_type": "code",
   "execution_count": 28,
   "metadata": {},
   "outputs": [
    {
     "data": {
      "text/html": [
       "<div>\n",
       "<style scoped>\n",
       "    .dataframe tbody tr th:only-of-type {\n",
       "        vertical-align: middle;\n",
       "    }\n",
       "\n",
       "    .dataframe tbody tr th {\n",
       "        vertical-align: top;\n",
       "    }\n",
       "\n",
       "    .dataframe thead th {\n",
       "        text-align: right;\n",
       "    }\n",
       "</style>\n",
       "<table border=\"1\" class=\"dataframe\">\n",
       "  <thead>\n",
       "    <tr style=\"text-align: right;\">\n",
       "      <th></th>\n",
       "      <th>MODEL_NAME</th>\n",
       "      <th>PARAMS</th>\n",
       "      <th>AUC</th>\n",
       "      <th>TRAIN_AUC</th>\n",
       "      <th>ACCURACY</th>\n",
       "      <th>THRESHOLD</th>\n",
       "      <th>TRAIN_ACCURACY</th>\n",
       "      <th>TRAIN_THRESHOLD</th>\n",
       "    </tr>\n",
       "  </thead>\n",
       "  <tbody>\n",
       "    <tr>\n",
       "      <th>0</th>\n",
       "      <td>stacking</td>\n",
       "      <td>{'meta_classifier__C': 0.01}</td>\n",
       "      <td>0.8727</td>\n",
       "      <td>0.9292</td>\n",
       "      <td>0.8246</td>\n",
       "      <td>0.5000</td>\n",
       "      <td>0.8581</td>\n",
       "      <td>0.6000</td>\n",
       "    </tr>\n",
       "    <tr>\n",
       "      <th>1</th>\n",
       "      <td>stacking</td>\n",
       "      <td>{'meta_classifier__C': 0.02}</td>\n",
       "      <td>0.8721</td>\n",
       "      <td>0.9399</td>\n",
       "      <td>0.8284</td>\n",
       "      <td>0.5000</td>\n",
       "      <td>0.8698</td>\n",
       "      <td>0.5500</td>\n",
       "    </tr>\n",
       "    <tr>\n",
       "      <th>2</th>\n",
       "      <td>stacking</td>\n",
       "      <td>{'meta_classifier__C': 0.05}</td>\n",
       "      <td>0.8669</td>\n",
       "      <td>0.9542</td>\n",
       "      <td>0.8358</td>\n",
       "      <td>0.5000</td>\n",
       "      <td>0.8932</td>\n",
       "      <td>0.5000</td>\n",
       "    </tr>\n",
       "    <tr>\n",
       "      <th>3</th>\n",
       "      <td>stacking</td>\n",
       "      <td>{'meta_classifier__C': 0.001}</td>\n",
       "      <td>0.8645</td>\n",
       "      <td>0.9023</td>\n",
       "      <td>0.7985</td>\n",
       "      <td>0.5000</td>\n",
       "      <td>0.8346</td>\n",
       "      <td>0.5000</td>\n",
       "    </tr>\n",
       "    <tr>\n",
       "      <th>4</th>\n",
       "      <td>stacking</td>\n",
       "      <td>{'meta_classifier__C': 0.1}</td>\n",
       "      <td>0.8617</td>\n",
       "      <td>0.9634</td>\n",
       "      <td>0.8321</td>\n",
       "      <td>0.7500</td>\n",
       "      <td>0.9115</td>\n",
       "      <td>0.5000</td>\n",
       "    </tr>\n",
       "    <tr>\n",
       "      <th>5</th>\n",
       "      <td>stacking</td>\n",
       "      <td>{'meta_classifier__C': 0.3}</td>\n",
       "      <td>0.8569</td>\n",
       "      <td>0.9715</td>\n",
       "      <td>0.8321</td>\n",
       "      <td>0.6500</td>\n",
       "      <td>0.9219</td>\n",
       "      <td>0.4500</td>\n",
       "    </tr>\n",
       "    <tr>\n",
       "      <th>6</th>\n",
       "      <td>stacking</td>\n",
       "      <td>{'meta_classifier__C': 0.5}</td>\n",
       "      <td>0.8505</td>\n",
       "      <td>0.9739</td>\n",
       "      <td>0.8321</td>\n",
       "      <td>0.7000</td>\n",
       "      <td>0.9245</td>\n",
       "      <td>0.5000</td>\n",
       "    </tr>\n",
       "    <tr>\n",
       "      <th>7</th>\n",
       "      <td>stacking</td>\n",
       "      <td>{'meta_classifier__C': 0.7}</td>\n",
       "      <td>0.8490</td>\n",
       "      <td>0.9748</td>\n",
       "      <td>0.8284</td>\n",
       "      <td>0.7000</td>\n",
       "      <td>0.9258</td>\n",
       "      <td>0.5000</td>\n",
       "    </tr>\n",
       "  </tbody>\n",
       "</table>\n",
       "</div>"
      ],
      "text/plain": [
       "  MODEL_NAME                         PARAMS    AUC  TRAIN_AUC  ACCURACY  \\\n",
       "0   stacking   {'meta_classifier__C': 0.01} 0.8727     0.9292    0.8246   \n",
       "1   stacking   {'meta_classifier__C': 0.02} 0.8721     0.9399    0.8284   \n",
       "2   stacking   {'meta_classifier__C': 0.05} 0.8669     0.9542    0.8358   \n",
       "3   stacking  {'meta_classifier__C': 0.001} 0.8645     0.9023    0.7985   \n",
       "4   stacking    {'meta_classifier__C': 0.1} 0.8617     0.9634    0.8321   \n",
       "5   stacking    {'meta_classifier__C': 0.3} 0.8569     0.9715    0.8321   \n",
       "6   stacking    {'meta_classifier__C': 0.5} 0.8505     0.9739    0.8321   \n",
       "7   stacking    {'meta_classifier__C': 0.7} 0.8490     0.9748    0.8284   \n",
       "\n",
       "   THRESHOLD  TRAIN_ACCURACY  TRAIN_THRESHOLD  \n",
       "0     0.5000          0.8581           0.6000  \n",
       "1     0.5000          0.8698           0.5500  \n",
       "2     0.5000          0.8932           0.5000  \n",
       "3     0.5000          0.8346           0.5000  \n",
       "4     0.7500          0.9115           0.5000  \n",
       "5     0.6500          0.9219           0.4500  \n",
       "6     0.7000          0.9245           0.5000  \n",
       "7     0.7000          0.9258           0.5000  "
      ]
     },
     "execution_count": 28,
     "metadata": {},
     "output_type": "execute_result"
    }
   ],
   "source": [
    "stacking_models_res"
   ]
  },
  {
   "cell_type": "code",
   "execution_count": 29,
   "metadata": {
    "scrolled": false
   },
   "outputs": [
    {
     "name": "stdout",
     "output_type": "stream",
     "text": [
      "0.7\n",
      "'stacking', accuracy: 0.799\n"
     ]
    },
    {
     "data": {
      "image/png": "[encoded data removed]",
      "text/plain": [
       "<Figure size 432x288 with 2 Axes>"
      ]
     },
     "metadata": {
      "needs_background": "light"
     },
     "output_type": "display_data"
    },
    {
     "data": {
      "text/plain": [
       "<Figure size 432x432 with 0 Axes>"
      ]
     },
     "metadata": {},
     "output_type": "display_data"
    },
    {
     "data": {
      "image/png": "[encoded data removed]",
      "text/plain": [
       "<Figure size 411.875x360 with 1 Axes>"
      ]
     },
     "metadata": {
      "needs_background": "light"
     },
     "output_type": "display_data"
    }
   ],
   "source": [
    "stack.set_params(**stacking_models_res['PARAMS'].loc[0])\n",
    "stack.fit(X_train, y_train)\n",
    "pred_proba = pd.DataFrame(stack.predict_proba(X_test), index=X_test.index, columns = ['Prob_0','Prob_1'])\n",
    "print(models_res['THRESHOLD'].loc[0])\n",
    "pred = pd.Series(np.where(pred_proba['Prob_1']>=models_res['THRESHOLD'].loc[0], 1, 0), name='Prediction', index=y_test.index)\n",
    "accuracy = accuracy_score(y_test, pred)\n",
    "print(f\"'stacking', accuracy: {accuracy:0.3f}\")\n",
    "cf_matrix = confusion_matrix(y_test, pred)\n",
    "plot_heatmap(cf_matrix)\n",
    "plt.figure(figsize=(6,6))\n",
    "res = pd.concat([pred_proba['Prob_1'], y_test], axis=1)\n",
    "sns.displot(data=res, x='Prob_1', hue='Survived', kind='kde')\n",
    "plt.axvline(x=row['THRESHOLD'], color='r')\n",
    "plt.show()"
   ]
  },
  {
   "cell_type": "markdown",
   "metadata": {},
   "source": [
    "## Saving submission"
   ]
  },
  {
   "cell_type": "code",
   "execution_count": 30,
   "metadata": {
    "collapsed": true
   },
   "outputs": [],
   "source": [
    "test = pd.read_csv(os.path.join(project_path, r'data\\test_lb.csv')).set_index('PassengerId')\n",
    "\n",
    "proba_lb = pd.DataFrame(stack.predict_proba(test), index=test.index, columns = ['Prob_0','Prob_1'])\n",
    "pred_lb = np.where(proba_lb['Prob_1']>=models_res['THRESHOLD'].loc[0], 1, 0)\n",
    "pred_lb = pd.DataFrame(pred_lb, columns = ['Survived'], index=test.index).reset_index()\n",
    "pred_lb.to_csv(os.path.join(project_path, r'data\\submission.csv'),index=False)"
   ]
  },
  {
   "cell_type": "code",
   "execution_count": 31,
   "metadata": {},
   "outputs": [
    {
     "data": {
      "text/plain": [
       "86"
      ]
     },
     "execution_count": 31,
     "metadata": {},
     "output_type": "execute_result"
    }
   ],
   "source": [
    "pred_lb['Survived'].sum()"
   ]
  },
  {
   "cell_type": "markdown",
   "metadata": {},
   "source": [
    "## Model errors analysis"
   ]
  },
  {
   "cell_type": "code",
   "execution_count": 32,
   "metadata": {},
   "outputs": [
    {
     "data": {
      "text/html": [
       "<div>\n",
       "<style scoped>\n",
       "    .dataframe tbody tr th:only-of-type {\n",
       "        vertical-align: middle;\n",
       "    }\n",
       "\n",
       "    .dataframe tbody tr th {\n",
       "        vertical-align: top;\n",
       "    }\n",
       "\n",
       "    .dataframe thead th {\n",
       "        text-align: right;\n",
       "    }\n",
       "</style>\n",
       "<table border=\"1\" class=\"dataframe\">\n",
       "  <thead>\n",
       "    <tr style=\"text-align: right;\">\n",
       "      <th></th>\n",
       "      <th>Survived</th>\n",
       "      <th>Pclass</th>\n",
       "      <th>Sex</th>\n",
       "      <th>SibSp</th>\n",
       "      <th>Parch</th>\n",
       "      <th>Fare</th>\n",
       "      <th>Embarked</th>\n",
       "      <th>Title</th>\n",
       "      <th>Ticket_Type</th>\n",
       "      <th>Cabin_Type</th>\n",
       "      <th>Age_Bucket</th>\n",
       "      <th>Fare_Bucket</th>\n",
       "      <th>SibSp_Bucket</th>\n",
       "      <th>Parch_Bucket</th>\n",
       "    </tr>\n",
       "    <tr>\n",
       "      <th>PassengerId</th>\n",
       "      <th></th>\n",
       "      <th></th>\n",
       "      <th></th>\n",
       "      <th></th>\n",
       "      <th></th>\n",
       "      <th></th>\n",
       "      <th></th>\n",
       "      <th></th>\n",
       "      <th></th>\n",
       "      <th></th>\n",
       "      <th></th>\n",
       "      <th></th>\n",
       "      <th></th>\n",
       "      <th></th>\n",
       "    </tr>\n",
       "  </thead>\n",
       "  <tbody>\n",
       "    <tr>\n",
       "      <th>434</th>\n",
       "      <td>0</td>\n",
       "      <td>3</td>\n",
       "      <td>male</td>\n",
       "      <td>0</td>\n",
       "      <td>0</td>\n",
       "      <td>2.0949</td>\n",
       "      <td>S</td>\n",
       "      <td>Mr.</td>\n",
       "      <td>Other</td>\n",
       "      <td>NoCabin</td>\n",
       "      <td>0-19</td>\n",
       "      <td>0-11</td>\n",
       "      <td>0</td>\n",
       "      <td>0</td>\n",
       "    </tr>\n",
       "    <tr>\n",
       "      <th>222</th>\n",
       "      <td>0</td>\n",
       "      <td>2</td>\n",
       "      <td>male</td>\n",
       "      <td>0</td>\n",
       "      <td>0</td>\n",
       "      <td>2.6391</td>\n",
       "      <td>S</td>\n",
       "      <td>Mr.</td>\n",
       "      <td>6-digit</td>\n",
       "      <td>NoCabin</td>\n",
       "      <td>25-32</td>\n",
       "      <td>11-46</td>\n",
       "      <td>0</td>\n",
       "      <td>0</td>\n",
       "    </tr>\n",
       "    <tr>\n",
       "      <th>218</th>\n",
       "      <td>0</td>\n",
       "      <td>2</td>\n",
       "      <td>male</td>\n",
       "      <td>1</td>\n",
       "      <td>0</td>\n",
       "      <td>3.3322</td>\n",
       "      <td>S</td>\n",
       "      <td>Mr.</td>\n",
       "      <td>6-digit</td>\n",
       "      <td>NoCabin</td>\n",
       "      <td>32-42</td>\n",
       "      <td>11-46</td>\n",
       "      <td>1</td>\n",
       "      <td>0</td>\n",
       "    </tr>\n",
       "    <tr>\n",
       "      <th>377</th>\n",
       "      <td>1</td>\n",
       "      <td>3</td>\n",
       "      <td>female</td>\n",
       "      <td>0</td>\n",
       "      <td>0</td>\n",
       "      <td>2.1102</td>\n",
       "      <td>S</td>\n",
       "      <td>Miss.</td>\n",
       "      <td>Other</td>\n",
       "      <td>NoCabin</td>\n",
       "      <td>19-25</td>\n",
       "      <td>0-11</td>\n",
       "      <td>0</td>\n",
       "      <td>0</td>\n",
       "    </tr>\n",
       "    <tr>\n",
       "      <th>448</th>\n",
       "      <td>1</td>\n",
       "      <td>1</td>\n",
       "      <td>male</td>\n",
       "      <td>0</td>\n",
       "      <td>0</td>\n",
       "      <td>3.3160</td>\n",
       "      <td>S</td>\n",
       "      <td>Mr.</td>\n",
       "      <td>6-digit</td>\n",
       "      <td>NoCabin</td>\n",
       "      <td>32-42</td>\n",
       "      <td>11-46</td>\n",
       "      <td>0</td>\n",
       "      <td>0</td>\n",
       "    </tr>\n",
       "  </tbody>\n",
       "</table>\n",
       "</div>"
      ],
      "text/plain": [
       "             Survived  Pclass     Sex  SibSp  Parch   Fare Embarked  Title  \\\n",
       "PassengerId                                                                  \n",
       "434                 0       3    male      0      0 2.0949        S    Mr.   \n",
       "222                 0       2    male      0      0 2.6391        S    Mr.   \n",
       "218                 0       2    male      1      0 3.3322        S    Mr.   \n",
       "377                 1       3  female      0      0 2.1102        S  Miss.   \n",
       "448                 1       1    male      0      0 3.3160        S    Mr.   \n",
       "\n",
       "            Ticket_Type Cabin_Type Age_Bucket Fare_Bucket SibSp_Bucket  \\\n",
       "PassengerId                                                              \n",
       "434               Other    NoCabin       0-19        0-11            0   \n",
       "222             6-digit    NoCabin      25-32       11-46            0   \n",
       "218             6-digit    NoCabin      32-42       11-46            1   \n",
       "377               Other    NoCabin      19-25        0-11            0   \n",
       "448             6-digit    NoCabin      32-42       11-46            0   \n",
       "\n",
       "            Parch_Bucket  \n",
       "PassengerId               \n",
       "434                    0  \n",
       "222                    0  \n",
       "218                    0  \n",
       "377                    0  \n",
       "448                    0  "
      ]
     },
     "execution_count": 32,
     "metadata": {},
     "output_type": "execute_result"
    }
   ],
   "source": [
    "data = pd.read_csv(os.path.join(project_path, r'sandbox\\X_test_before_encoding.csv'), index_col=0)\n",
    "data.head()"
   ]
  },
  {
   "cell_type": "code",
   "execution_count": 33,
   "metadata": {
    "scrolled": false
   },
   "outputs": [
    {
     "data": {
      "text/html": [
       "<div>\n",
       "<style scoped>\n",
       "    .dataframe tbody tr th:only-of-type {\n",
       "        vertical-align: middle;\n",
       "    }\n",
       "\n",
       "    .dataframe tbody tr th {\n",
       "        vertical-align: top;\n",
       "    }\n",
       "\n",
       "    .dataframe thead th {\n",
       "        text-align: right;\n",
       "    }\n",
       "</style>\n",
       "<table border=\"1\" class=\"dataframe\">\n",
       "  <thead>\n",
       "    <tr style=\"text-align: right;\">\n",
       "      <th></th>\n",
       "      <th>Survived</th>\n",
       "      <th>Pclass</th>\n",
       "      <th>Sex</th>\n",
       "      <th>SibSp</th>\n",
       "      <th>Parch</th>\n",
       "      <th>Fare</th>\n",
       "      <th>Embarked</th>\n",
       "      <th>Title</th>\n",
       "      <th>Ticket_Type</th>\n",
       "      <th>Cabin_Type</th>\n",
       "      <th>Age_Bucket</th>\n",
       "      <th>Fare_Bucket</th>\n",
       "      <th>SibSp_Bucket</th>\n",
       "      <th>Parch_Bucket</th>\n",
       "      <th>Prob_0</th>\n",
       "      <th>Prob_1</th>\n",
       "      <th>Prediction</th>\n",
       "    </tr>\n",
       "  </thead>\n",
       "  <tbody>\n",
       "    <tr>\n",
       "      <th>434</th>\n",
       "      <td>0</td>\n",
       "      <td>3</td>\n",
       "      <td>male</td>\n",
       "      <td>0</td>\n",
       "      <td>0</td>\n",
       "      <td>2.0949</td>\n",
       "      <td>S</td>\n",
       "      <td>Mr.</td>\n",
       "      <td>Other</td>\n",
       "      <td>NoCabin</td>\n",
       "      <td>0-19</td>\n",
       "      <td>0-11</td>\n",
       "      <td>0</td>\n",
       "      <td>0</td>\n",
       "      <td>0.7455</td>\n",
       "      <td>0.2545</td>\n",
       "      <td>0</td>\n",
       "    </tr>\n",
       "    <tr>\n",
       "      <th>222</th>\n",
       "      <td>0</td>\n",
       "      <td>2</td>\n",
       "      <td>male</td>\n",
       "      <td>0</td>\n",
       "      <td>0</td>\n",
       "      <td>2.6391</td>\n",
       "      <td>S</td>\n",
       "      <td>Mr.</td>\n",
       "      <td>6-digit</td>\n",
       "      <td>NoCabin</td>\n",
       "      <td>25-32</td>\n",
       "      <td>11-46</td>\n",
       "      <td>0</td>\n",
       "      <td>0</td>\n",
       "      <td>0.7297</td>\n",
       "      <td>0.2703</td>\n",
       "      <td>0</td>\n",
       "    </tr>\n",
       "    <tr>\n",
       "      <th>218</th>\n",
       "      <td>0</td>\n",
       "      <td>2</td>\n",
       "      <td>male</td>\n",
       "      <td>1</td>\n",
       "      <td>0</td>\n",
       "      <td>3.3322</td>\n",
       "      <td>S</td>\n",
       "      <td>Mr.</td>\n",
       "      <td>6-digit</td>\n",
       "      <td>NoCabin</td>\n",
       "      <td>32-42</td>\n",
       "      <td>11-46</td>\n",
       "      <td>1</td>\n",
       "      <td>0</td>\n",
       "      <td>0.7200</td>\n",
       "      <td>0.2800</td>\n",
       "      <td>0</td>\n",
       "    </tr>\n",
       "    <tr>\n",
       "      <th>377</th>\n",
       "      <td>1</td>\n",
       "      <td>3</td>\n",
       "      <td>female</td>\n",
       "      <td>0</td>\n",
       "      <td>0</td>\n",
       "      <td>2.1102</td>\n",
       "      <td>S</td>\n",
       "      <td>Miss.</td>\n",
       "      <td>Other</td>\n",
       "      <td>NoCabin</td>\n",
       "      <td>19-25</td>\n",
       "      <td>0-11</td>\n",
       "      <td>0</td>\n",
       "      <td>0</td>\n",
       "      <td>0.4704</td>\n",
       "      <td>0.5296</td>\n",
       "      <td>0</td>\n",
       "    </tr>\n",
       "    <tr>\n",
       "      <th>448</th>\n",
       "      <td>1</td>\n",
       "      <td>1</td>\n",
       "      <td>male</td>\n",
       "      <td>0</td>\n",
       "      <td>0</td>\n",
       "      <td>3.3160</td>\n",
       "      <td>S</td>\n",
       "      <td>Mr.</td>\n",
       "      <td>6-digit</td>\n",
       "      <td>NoCabin</td>\n",
       "      <td>32-42</td>\n",
       "      <td>11-46</td>\n",
       "      <td>0</td>\n",
       "      <td>0</td>\n",
       "      <td>0.4810</td>\n",
       "      <td>0.5190</td>\n",
       "      <td>0</td>\n",
       "    </tr>\n",
       "    <tr>\n",
       "      <th>...</th>\n",
       "      <td>...</td>\n",
       "      <td>...</td>\n",
       "      <td>...</td>\n",
       "      <td>...</td>\n",
       "      <td>...</td>\n",
       "      <td>...</td>\n",
       "      <td>...</td>\n",
       "      <td>...</td>\n",
       "      <td>...</td>\n",
       "      <td>...</td>\n",
       "      <td>...</td>\n",
       "      <td>...</td>\n",
       "      <td>...</td>\n",
       "      <td>...</td>\n",
       "      <td>...</td>\n",
       "      <td>...</td>\n",
       "      <td>...</td>\n",
       "    </tr>\n",
       "    <tr>\n",
       "      <th>640</th>\n",
       "      <td>0</td>\n",
       "      <td>3</td>\n",
       "      <td>male</td>\n",
       "      <td>1</td>\n",
       "      <td>0</td>\n",
       "      <td>2.8391</td>\n",
       "      <td>S</td>\n",
       "      <td>Mr.</td>\n",
       "      <td>6-digit</td>\n",
       "      <td>NoCabin</td>\n",
       "      <td>Missing</td>\n",
       "      <td>11-46</td>\n",
       "      <td>1</td>\n",
       "      <td>0</td>\n",
       "      <td>0.7671</td>\n",
       "      <td>0.2329</td>\n",
       "      <td>0</td>\n",
       "    </tr>\n",
       "    <tr>\n",
       "      <th>771</th>\n",
       "      <td>0</td>\n",
       "      <td>3</td>\n",
       "      <td>male</td>\n",
       "      <td>0</td>\n",
       "      <td>0</td>\n",
       "      <td>2.3514</td>\n",
       "      <td>S</td>\n",
       "      <td>Mr.</td>\n",
       "      <td>6-digit</td>\n",
       "      <td>NoCabin</td>\n",
       "      <td>19-25</td>\n",
       "      <td>0-11</td>\n",
       "      <td>0</td>\n",
       "      <td>0</td>\n",
       "      <td>0.7870</td>\n",
       "      <td>0.2130</td>\n",
       "      <td>0</td>\n",
       "    </tr>\n",
       "    <tr>\n",
       "      <th>851</th>\n",
       "      <td>0</td>\n",
       "      <td>3</td>\n",
       "      <td>male</td>\n",
       "      <td>4</td>\n",
       "      <td>2</td>\n",
       "      <td>3.4743</td>\n",
       "      <td>S</td>\n",
       "      <td>Master.</td>\n",
       "      <td>6-digit</td>\n",
       "      <td>NoCabin</td>\n",
       "      <td>0-19</td>\n",
       "      <td>11-46</td>\n",
       "      <td>2&gt;=</td>\n",
       "      <td>2&gt;=</td>\n",
       "      <td>0.6848</td>\n",
       "      <td>0.3152</td>\n",
       "      <td>0</td>\n",
       "    </tr>\n",
       "    <tr>\n",
       "      <th>229</th>\n",
       "      <td>0</td>\n",
       "      <td>2</td>\n",
       "      <td>male</td>\n",
       "      <td>0</td>\n",
       "      <td>0</td>\n",
       "      <td>2.6391</td>\n",
       "      <td>S</td>\n",
       "      <td>Mr.</td>\n",
       "      <td>6-digit</td>\n",
       "      <td>NoCabin</td>\n",
       "      <td>0-19</td>\n",
       "      <td>11-46</td>\n",
       "      <td>0</td>\n",
       "      <td>0</td>\n",
       "      <td>0.7160</td>\n",
       "      <td>0.2840</td>\n",
       "      <td>0</td>\n",
       "    </tr>\n",
       "    <tr>\n",
       "      <th>649</th>\n",
       "      <td>0</td>\n",
       "      <td>3</td>\n",
       "      <td>male</td>\n",
       "      <td>0</td>\n",
       "      <td>0</td>\n",
       "      <td>2.1459</td>\n",
       "      <td>S</td>\n",
       "      <td>Mr.</td>\n",
       "      <td>Other</td>\n",
       "      <td>NoCabin</td>\n",
       "      <td>Missing</td>\n",
       "      <td>0-11</td>\n",
       "      <td>0</td>\n",
       "      <td>0</td>\n",
       "      <td>0.7890</td>\n",
       "      <td>0.2110</td>\n",
       "      <td>0</td>\n",
       "    </tr>\n",
       "  </tbody>\n",
       "</table>\n",
       "<p>268 rows × 17 columns</p>\n",
       "</div>"
      ],
      "text/plain": [
       "     Survived  Pclass     Sex  SibSp  Parch   Fare Embarked    Title  \\\n",
       "434         0       3    male      0      0 2.0949        S      Mr.   \n",
       "222         0       2    male      0      0 2.6391        S      Mr.   \n",
       "218         0       2    male      1      0 3.3322        S      Mr.   \n",
       "377         1       3  female      0      0 2.1102        S    Miss.   \n",
       "448         1       1    male      0      0 3.3160        S      Mr.   \n",
       "..        ...     ...     ...    ...    ...    ...      ...      ...   \n",
       "640         0       3    male      1      0 2.8391        S      Mr.   \n",
       "771         0       3    male      0      0 2.3514        S      Mr.   \n",
       "851         0       3    male      4      2 3.4743        S  Master.   \n",
       "229         0       2    male      0      0 2.6391        S      Mr.   \n",
       "649         0       3    male      0      0 2.1459        S      Mr.   \n",
       "\n",
       "    Ticket_Type Cabin_Type Age_Bucket Fare_Bucket SibSp_Bucket Parch_Bucket  \\\n",
       "434       Other    NoCabin       0-19        0-11            0            0   \n",
       "222     6-digit    NoCabin      25-32       11-46            0            0   \n",
       "218     6-digit    NoCabin      32-42       11-46            1            0   \n",
       "377       Other    NoCabin      19-25        0-11            0            0   \n",
       "448     6-digit    NoCabin      32-42       11-46            0            0   \n",
       "..          ...        ...        ...         ...          ...          ...   \n",
       "640     6-digit    NoCabin    Missing       11-46            1            0   \n",
       "771     6-digit    NoCabin      19-25        0-11            0            0   \n",
       "851     6-digit    NoCabin       0-19       11-46          2>=          2>=   \n",
       "229     6-digit    NoCabin       0-19       11-46            0            0   \n",
       "649       Other    NoCabin    Missing        0-11            0            0   \n",
       "\n",
       "     Prob_0  Prob_1  Prediction  \n",
       "434  0.7455  0.2545           0  \n",
       "222  0.7297  0.2703           0  \n",
       "218  0.7200  0.2800           0  \n",
       "377  0.4704  0.5296           0  \n",
       "448  0.4810  0.5190           0  \n",
       "..      ...     ...         ...  \n",
       "640  0.7671  0.2329           0  \n",
       "771  0.7870  0.2130           0  \n",
       "851  0.6848  0.3152           0  \n",
       "229  0.7160  0.2840           0  \n",
       "649  0.7890  0.2110           0  \n",
       "\n",
       "[268 rows x 17 columns]"
      ]
     },
     "execution_count": 33,
     "metadata": {},
     "output_type": "execute_result"
    }
   ],
   "source": [
    "data = pd.concat([data, pred_proba, pred], axis=1)\n",
    "data"
   ]
  },
  {
   "cell_type": "code",
   "execution_count": 34,
   "metadata": {},
   "outputs": [
    {
     "data": {
      "text/plain": [
       "TN    162\n",
       "TP     52\n",
       "FN     51\n",
       "FP      3\n",
       "Name: Result, dtype: int64"
      ]
     },
     "execution_count": 34,
     "metadata": {},
     "output_type": "execute_result"
    }
   ],
   "source": [
    "data['Result'] = ''\n",
    "data['Result'] = np.where((data['Prediction']==0) & (data['Survived']==0), 'TN', data['Result'])\n",
    "data['Result'] = np.where((data['Prediction']==1) & (data['Survived']==1), 'TP', data['Result'])\n",
    "data['Result'] = np.where((data['Prediction']==0) & (data['Survived']==1), 'FN', data['Result'])\n",
    "data['Result'] = np.where((data['Prediction']==1) & (data['Survived']==0), 'FP', data['Result'])\n",
    "data['Result'].value_counts()"
   ]
  },
  {
   "cell_type": "code",
   "execution_count": 35,
   "metadata": {},
   "outputs": [
    {
     "data": {
      "text/plain": [
       "Index(['Survived', 'Pclass', 'Sex', 'SibSp', 'Parch', 'Fare', 'Embarked',\n",
       "       'Title', 'Ticket_Type', 'Cabin_Type', 'Age_Bucket', 'Fare_Bucket',\n",
       "       'SibSp_Bucket', 'Parch_Bucket', 'Prob_0', 'Prob_1', 'Prediction',\n",
       "       'Result'],\n",
       "      dtype='object')"
      ]
     },
     "execution_count": 35,
     "metadata": {},
     "output_type": "execute_result"
    }
   ],
   "source": [
    "data.columns"
   ]
  },
  {
   "cell_type": "code",
   "execution_count": 36,
   "metadata": {
    "scrolled": false
   },
   "outputs": [
    {
     "data": {
      "image/png": "[encoded data removed]",
      "text/plain": [
       "<Figure size 1080x360 with 2 Axes>"
      ]
     },
     "metadata": {
      "needs_background": "light"
     },
     "output_type": "display_data"
    },
    {
     "data": {
      "image/png": "[encoded data removed]",
      "text/plain": [
       "<Figure size 1080x360 with 2 Axes>"
      ]
     },
     "metadata": {
      "needs_background": "light"
     },
     "output_type": "display_data"
    },
    {
     "data": {
      "image/png": "[encoded data removed]",
      "text/plain": [
       "<Figure size 1080x360 with 2 Axes>"
      ]
     },
     "metadata": {
      "needs_background": "light"
     },
     "output_type": "display_data"
    },
    {
     "data": {
      "image/png": "[encoded data removed]",
      "text/plain": [
       "<Figure size 1080x360 with 2 Axes>"
      ]
     },
     "metadata": {
      "needs_background": "light"
     },
     "output_type": "display_data"
    },
    {
     "data": {
      "image/png": "[encoded data removed]",
      "text/plain": [
       "<Figure size 1080x360 with 2 Axes>"
      ]
     },
     "metadata": {
      "needs_background": "light"
     },
     "output_type": "display_data"
    },
    {
     "data": {
      "image/png": "[encoded data removed]",
      "text/plain": [
       "<Figure size 1080x360 with 2 Axes>"
      ]
     },
     "metadata": {
      "needs_background": "light"
     },
     "output_type": "display_data"
    },
    {
     "data": {
      "image/png": "[encoded data removed]",
      "text/plain": [
       "<Figure size 1080x360 with 2 Axes>"
      ]
     },
     "metadata": {
      "needs_background": "light"
     },
     "output_type": "display_data"
    },
    {
     "data": {
      "image/png": "[encoded data removed]",
      "text/plain": [
       "<Figure size 1080x360 with 2 Axes>"
      ]
     },
     "metadata": {
      "needs_background": "light"
     },
     "output_type": "display_data"
    },
    {
     "data": {
      "image/png": "[encoded data removed]",
      "text/plain": [
       "<Figure size 1080x360 with 2 Axes>"
      ]
     },
     "metadata": {
      "needs_background": "light"
     },
     "output_type": "display_data"
    },
    {
     "data": {
      "image/png": "[encoded data removed]",
      "text/plain": [
       "<Figure size 1080x360 with 2 Axes>"
      ]
     },
     "metadata": {
      "needs_background": "light"
     },
     "output_type": "display_data"
    }
   ],
   "source": [
    "survived = data['Survived'].unique()\n",
    "\n",
    "def plot_error_analysis(var):\n",
    "    res = data.groupby(['Survived',var])['Result'].value_counts(normalize=True).rename('Percent').reset_index()\n",
    "    fig, (ax1, ax2) = plt.subplots(1, 2, sharey=True, figsize=(15,5))\n",
    "    for s, ax, hue_order in zip(survived, [ax1, ax2], [['TN','FP'], ['TP','FN']]):\n",
    "        sns.barplot(data=res[res['Survived']==s], x=var, y='Percent', hue='Result', hue_order=hue_order, ax=ax)\n",
    "        ax.set_ylim(0,1)\n",
    "        ax.set_title(label=f'Survived = {s}')\n",
    "        ax.legend(loc='upper right')\n",
    "    plt.tight_layout()\n",
    "    plt.show()\n",
    "    \n",
    "for var in ['Pclass', 'Sex', 'SibSp', 'Parch', 'Embarked', 'Title',\n",
    "       'Ticket_Type', 'Cabin_Type', 'Age_Bucket', 'Fare_Bucket']:\n",
    "    plot_error_analysis(var)"
   ]
  },
  {
   "cell_type": "code",
   "execution_count": null,
   "metadata": {
    "collapsed": true
   },
   "outputs": [],
   "source": []
  }
 ],
 "metadata": {
  "kernelspec": {
   "display_name": "Python 3",
   "language": "python",
   "name": "python3"
  },
  "language_info": {
   "codemirror_mode": {
    "name": "ipython",
    "version": 3
   },
   "file_extension": ".py",
   "mimetype": "text/x-python",
   "name": "python",
   "nbconvert_exporter": "python",
   "pygments_lexer": "ipython3",
   "version": "3.9.0"
  }
 },
 "nbformat": 4,
 "nbformat_minor": 2
}
